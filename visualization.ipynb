{
 "cells": [
  {
   "cell_type": "markdown",
   "metadata": {},
   "source": [
    "# Connection to database"
   ]
  },
  {
   "cell_type": "code",
   "execution_count": 2,
   "metadata": {},
   "outputs": [],
   "source": [
    "from pymongo import MongoClient\n",
    "\n",
    "client = MongoClient(\"127.0.0.1\", 27017)\n",
    "\n",
    "db = client.qr"
   ]
  },
  {
   "cell_type": "markdown",
   "metadata": {},
   "source": [
    "# Schools analytics"
   ]
  },
  {
   "cell_type": "markdown",
   "metadata": {},
   "source": [
    "## Data request"
   ]
  },
  {
   "cell_type": "code",
   "execution_count": 44,
   "metadata": {},
   "outputs": [],
   "source": [
    "cursor = db.quant_researchers.aggregate([\n",
    "  { \"$unwind\": \"$education\" }, # Unwind the education array\n",
    "  { \"$group\": { \"_id\": \"$education.school\", \"count\": { \"$sum\": 1 } } }, # Group by school and count occurrences\n",
    "  { \"$sort\": { \"count\": -1 } } # Sort by count in descending order\n",
    "])\n",
    "\n",
    "data = list(cursor)"
   ]
  },
  {
   "cell_type": "markdown",
   "metadata": {},
   "source": [
    "## Displaying data"
   ]
  },
  {
   "cell_type": "code",
   "execution_count": 45,
   "metadata": {},
   "outputs": [
    {
     "data": {
      "application/vnd.plotly.v1+json": {
       "config": {
        "plotlyServerURL": "https://plot.ly"
       },
       "data": [
        {
         "alignmentgroup": "True",
         "hovertemplate": "Schools=%{x}<br>count=%{y}<extra></extra>",
         "legendgroup": "",
         "marker": {
          "color": "#636efa",
          "pattern": {
           "shape": ""
          }
         },
         "name": "",
         "offsetgroup": "",
         "orientation": "v",
         "showlegend": false,
         "textposition": "auto",
         "type": "bar",
         "x": [
          "École Polytechnique",
          "Université Paris Dauphine - PSL",
          "CentraleSupélec",
          "Pierre and Marie Curie University",
          "Université Paris Cité",
          "ENSAE Paris",
          "Université Paris-Saclay",
          "Sorbonne Université",
          "École normale supérieure Paris-Saclay",
          "University of Paris I: Panthéon-Sorbonne",
          "Ecole normale supérieure",
          "University of Cambridge",
          "Lycée Louis-le-Grand",
          "University of Oxford",
          "Ecole des Ponts ParisTech",
          "Imperial College London",
          "Paris-Sud University (Paris XI)",
          "Télécom Paris",
          "National School of Computer Science and Applied Mathematics of Grenoble",
          "ENSTA Paris"
         ],
         "xaxis": "x",
         "y": [
          239,
          123,
          117,
          96,
          91,
          72,
          69,
          66,
          51,
          50,
          43,
          42,
          40,
          35,
          35,
          34,
          29,
          26,
          26,
          26
         ],
         "yaxis": "y"
        }
       ],
       "layout": {
        "barmode": "relative",
        "legend": {
         "tracegroupgap": 0
        },
        "margin": {
         "t": 60
        },
        "template": {
         "data": {
          "bar": [
           {
            "error_x": {
             "color": "#2a3f5f"
            },
            "error_y": {
             "color": "#2a3f5f"
            },
            "marker": {
             "line": {
              "color": "#E5ECF6",
              "width": 0.5
             },
             "pattern": {
              "fillmode": "overlay",
              "size": 10,
              "solidity": 0.2
             }
            },
            "type": "bar"
           }
          ],
          "barpolar": [
           {
            "marker": {
             "line": {
              "color": "#E5ECF6",
              "width": 0.5
             },
             "pattern": {
              "fillmode": "overlay",
              "size": 10,
              "solidity": 0.2
             }
            },
            "type": "barpolar"
           }
          ],
          "carpet": [
           {
            "aaxis": {
             "endlinecolor": "#2a3f5f",
             "gridcolor": "white",
             "linecolor": "white",
             "minorgridcolor": "white",
             "startlinecolor": "#2a3f5f"
            },
            "baxis": {
             "endlinecolor": "#2a3f5f",
             "gridcolor": "white",
             "linecolor": "white",
             "minorgridcolor": "white",
             "startlinecolor": "#2a3f5f"
            },
            "type": "carpet"
           }
          ],
          "choropleth": [
           {
            "colorbar": {
             "outlinewidth": 0,
             "ticks": ""
            },
            "type": "choropleth"
           }
          ],
          "contour": [
           {
            "colorbar": {
             "outlinewidth": 0,
             "ticks": ""
            },
            "colorscale": [
             [
              0,
              "#0d0887"
             ],
             [
              0.1111111111111111,
              "#46039f"
             ],
             [
              0.2222222222222222,
              "#7201a8"
             ],
             [
              0.3333333333333333,
              "#9c179e"
             ],
             [
              0.4444444444444444,
              "#bd3786"
             ],
             [
              0.5555555555555556,
              "#d8576b"
             ],
             [
              0.6666666666666666,
              "#ed7953"
             ],
             [
              0.7777777777777778,
              "#fb9f3a"
             ],
             [
              0.8888888888888888,
              "#fdca26"
             ],
             [
              1,
              "#f0f921"
             ]
            ],
            "type": "contour"
           }
          ],
          "contourcarpet": [
           {
            "colorbar": {
             "outlinewidth": 0,
             "ticks": ""
            },
            "type": "contourcarpet"
           }
          ],
          "heatmap": [
           {
            "colorbar": {
             "outlinewidth": 0,
             "ticks": ""
            },
            "colorscale": [
             [
              0,
              "#0d0887"
             ],
             [
              0.1111111111111111,
              "#46039f"
             ],
             [
              0.2222222222222222,
              "#7201a8"
             ],
             [
              0.3333333333333333,
              "#9c179e"
             ],
             [
              0.4444444444444444,
              "#bd3786"
             ],
             [
              0.5555555555555556,
              "#d8576b"
             ],
             [
              0.6666666666666666,
              "#ed7953"
             ],
             [
              0.7777777777777778,
              "#fb9f3a"
             ],
             [
              0.8888888888888888,
              "#fdca26"
             ],
             [
              1,
              "#f0f921"
             ]
            ],
            "type": "heatmap"
           }
          ],
          "heatmapgl": [
           {
            "colorbar": {
             "outlinewidth": 0,
             "ticks": ""
            },
            "colorscale": [
             [
              0,
              "#0d0887"
             ],
             [
              0.1111111111111111,
              "#46039f"
             ],
             [
              0.2222222222222222,
              "#7201a8"
             ],
             [
              0.3333333333333333,
              "#9c179e"
             ],
             [
              0.4444444444444444,
              "#bd3786"
             ],
             [
              0.5555555555555556,
              "#d8576b"
             ],
             [
              0.6666666666666666,
              "#ed7953"
             ],
             [
              0.7777777777777778,
              "#fb9f3a"
             ],
             [
              0.8888888888888888,
              "#fdca26"
             ],
             [
              1,
              "#f0f921"
             ]
            ],
            "type": "heatmapgl"
           }
          ],
          "histogram": [
           {
            "marker": {
             "pattern": {
              "fillmode": "overlay",
              "size": 10,
              "solidity": 0.2
             }
            },
            "type": "histogram"
           }
          ],
          "histogram2d": [
           {
            "colorbar": {
             "outlinewidth": 0,
             "ticks": ""
            },
            "colorscale": [
             [
              0,
              "#0d0887"
             ],
             [
              0.1111111111111111,
              "#46039f"
             ],
             [
              0.2222222222222222,
              "#7201a8"
             ],
             [
              0.3333333333333333,
              "#9c179e"
             ],
             [
              0.4444444444444444,
              "#bd3786"
             ],
             [
              0.5555555555555556,
              "#d8576b"
             ],
             [
              0.6666666666666666,
              "#ed7953"
             ],
             [
              0.7777777777777778,
              "#fb9f3a"
             ],
             [
              0.8888888888888888,
              "#fdca26"
             ],
             [
              1,
              "#f0f921"
             ]
            ],
            "type": "histogram2d"
           }
          ],
          "histogram2dcontour": [
           {
            "colorbar": {
             "outlinewidth": 0,
             "ticks": ""
            },
            "colorscale": [
             [
              0,
              "#0d0887"
             ],
             [
              0.1111111111111111,
              "#46039f"
             ],
             [
              0.2222222222222222,
              "#7201a8"
             ],
             [
              0.3333333333333333,
              "#9c179e"
             ],
             [
              0.4444444444444444,
              "#bd3786"
             ],
             [
              0.5555555555555556,
              "#d8576b"
             ],
             [
              0.6666666666666666,
              "#ed7953"
             ],
             [
              0.7777777777777778,
              "#fb9f3a"
             ],
             [
              0.8888888888888888,
              "#fdca26"
             ],
             [
              1,
              "#f0f921"
             ]
            ],
            "type": "histogram2dcontour"
           }
          ],
          "mesh3d": [
           {
            "colorbar": {
             "outlinewidth": 0,
             "ticks": ""
            },
            "type": "mesh3d"
           }
          ],
          "parcoords": [
           {
            "line": {
             "colorbar": {
              "outlinewidth": 0,
              "ticks": ""
             }
            },
            "type": "parcoords"
           }
          ],
          "pie": [
           {
            "automargin": true,
            "type": "pie"
           }
          ],
          "scatter": [
           {
            "fillpattern": {
             "fillmode": "overlay",
             "size": 10,
             "solidity": 0.2
            },
            "type": "scatter"
           }
          ],
          "scatter3d": [
           {
            "line": {
             "colorbar": {
              "outlinewidth": 0,
              "ticks": ""
             }
            },
            "marker": {
             "colorbar": {
              "outlinewidth": 0,
              "ticks": ""
             }
            },
            "type": "scatter3d"
           }
          ],
          "scattercarpet": [
           {
            "marker": {
             "colorbar": {
              "outlinewidth": 0,
              "ticks": ""
             }
            },
            "type": "scattercarpet"
           }
          ],
          "scattergeo": [
           {
            "marker": {
             "colorbar": {
              "outlinewidth": 0,
              "ticks": ""
             }
            },
            "type": "scattergeo"
           }
          ],
          "scattergl": [
           {
            "marker": {
             "colorbar": {
              "outlinewidth": 0,
              "ticks": ""
             }
            },
            "type": "scattergl"
           }
          ],
          "scattermapbox": [
           {
            "marker": {
             "colorbar": {
              "outlinewidth": 0,
              "ticks": ""
             }
            },
            "type": "scattermapbox"
           }
          ],
          "scatterpolar": [
           {
            "marker": {
             "colorbar": {
              "outlinewidth": 0,
              "ticks": ""
             }
            },
            "type": "scatterpolar"
           }
          ],
          "scatterpolargl": [
           {
            "marker": {
             "colorbar": {
              "outlinewidth": 0,
              "ticks": ""
             }
            },
            "type": "scatterpolargl"
           }
          ],
          "scatterternary": [
           {
            "marker": {
             "colorbar": {
              "outlinewidth": 0,
              "ticks": ""
             }
            },
            "type": "scatterternary"
           }
          ],
          "surface": [
           {
            "colorbar": {
             "outlinewidth": 0,
             "ticks": ""
            },
            "colorscale": [
             [
              0,
              "#0d0887"
             ],
             [
              0.1111111111111111,
              "#46039f"
             ],
             [
              0.2222222222222222,
              "#7201a8"
             ],
             [
              0.3333333333333333,
              "#9c179e"
             ],
             [
              0.4444444444444444,
              "#bd3786"
             ],
             [
              0.5555555555555556,
              "#d8576b"
             ],
             [
              0.6666666666666666,
              "#ed7953"
             ],
             [
              0.7777777777777778,
              "#fb9f3a"
             ],
             [
              0.8888888888888888,
              "#fdca26"
             ],
             [
              1,
              "#f0f921"
             ]
            ],
            "type": "surface"
           }
          ],
          "table": [
           {
            "cells": {
             "fill": {
              "color": "#EBF0F8"
             },
             "line": {
              "color": "white"
             }
            },
            "header": {
             "fill": {
              "color": "#C8D4E3"
             },
             "line": {
              "color": "white"
             }
            },
            "type": "table"
           }
          ]
         },
         "layout": {
          "annotationdefaults": {
           "arrowcolor": "#2a3f5f",
           "arrowhead": 0,
           "arrowwidth": 1
          },
          "autotypenumbers": "strict",
          "coloraxis": {
           "colorbar": {
            "outlinewidth": 0,
            "ticks": ""
           }
          },
          "colorscale": {
           "diverging": [
            [
             0,
             "#8e0152"
            ],
            [
             0.1,
             "#c51b7d"
            ],
            [
             0.2,
             "#de77ae"
            ],
            [
             0.3,
             "#f1b6da"
            ],
            [
             0.4,
             "#fde0ef"
            ],
            [
             0.5,
             "#f7f7f7"
            ],
            [
             0.6,
             "#e6f5d0"
            ],
            [
             0.7,
             "#b8e186"
            ],
            [
             0.8,
             "#7fbc41"
            ],
            [
             0.9,
             "#4d9221"
            ],
            [
             1,
             "#276419"
            ]
           ],
           "sequential": [
            [
             0,
             "#0d0887"
            ],
            [
             0.1111111111111111,
             "#46039f"
            ],
            [
             0.2222222222222222,
             "#7201a8"
            ],
            [
             0.3333333333333333,
             "#9c179e"
            ],
            [
             0.4444444444444444,
             "#bd3786"
            ],
            [
             0.5555555555555556,
             "#d8576b"
            ],
            [
             0.6666666666666666,
             "#ed7953"
            ],
            [
             0.7777777777777778,
             "#fb9f3a"
            ],
            [
             0.8888888888888888,
             "#fdca26"
            ],
            [
             1,
             "#f0f921"
            ]
           ],
           "sequentialminus": [
            [
             0,
             "#0d0887"
            ],
            [
             0.1111111111111111,
             "#46039f"
            ],
            [
             0.2222222222222222,
             "#7201a8"
            ],
            [
             0.3333333333333333,
             "#9c179e"
            ],
            [
             0.4444444444444444,
             "#bd3786"
            ],
            [
             0.5555555555555556,
             "#d8576b"
            ],
            [
             0.6666666666666666,
             "#ed7953"
            ],
            [
             0.7777777777777778,
             "#fb9f3a"
            ],
            [
             0.8888888888888888,
             "#fdca26"
            ],
            [
             1,
             "#f0f921"
            ]
           ]
          },
          "colorway": [
           "#636efa",
           "#EF553B",
           "#00cc96",
           "#ab63fa",
           "#FFA15A",
           "#19d3f3",
           "#FF6692",
           "#B6E880",
           "#FF97FF",
           "#FECB52"
          ],
          "font": {
           "color": "#2a3f5f"
          },
          "geo": {
           "bgcolor": "white",
           "lakecolor": "white",
           "landcolor": "#E5ECF6",
           "showlakes": true,
           "showland": true,
           "subunitcolor": "white"
          },
          "hoverlabel": {
           "align": "left"
          },
          "hovermode": "closest",
          "mapbox": {
           "style": "light"
          },
          "paper_bgcolor": "white",
          "plot_bgcolor": "#E5ECF6",
          "polar": {
           "angularaxis": {
            "gridcolor": "white",
            "linecolor": "white",
            "ticks": ""
           },
           "bgcolor": "#E5ECF6",
           "radialaxis": {
            "gridcolor": "white",
            "linecolor": "white",
            "ticks": ""
           }
          },
          "scene": {
           "xaxis": {
            "backgroundcolor": "#E5ECF6",
            "gridcolor": "white",
            "gridwidth": 2,
            "linecolor": "white",
            "showbackground": true,
            "ticks": "",
            "zerolinecolor": "white"
           },
           "yaxis": {
            "backgroundcolor": "#E5ECF6",
            "gridcolor": "white",
            "gridwidth": 2,
            "linecolor": "white",
            "showbackground": true,
            "ticks": "",
            "zerolinecolor": "white"
           },
           "zaxis": {
            "backgroundcolor": "#E5ECF6",
            "gridcolor": "white",
            "gridwidth": 2,
            "linecolor": "white",
            "showbackground": true,
            "ticks": "",
            "zerolinecolor": "white"
           }
          },
          "shapedefaults": {
           "line": {
            "color": "#2a3f5f"
           }
          },
          "ternary": {
           "aaxis": {
            "gridcolor": "white",
            "linecolor": "white",
            "ticks": ""
           },
           "baxis": {
            "gridcolor": "white",
            "linecolor": "white",
            "ticks": ""
           },
           "bgcolor": "#E5ECF6",
           "caxis": {
            "gridcolor": "white",
            "linecolor": "white",
            "ticks": ""
           }
          },
          "title": {
           "x": 0.05
          },
          "xaxis": {
           "automargin": true,
           "gridcolor": "white",
           "linecolor": "white",
           "ticks": "",
           "title": {
            "standoff": 15
           },
           "zerolinecolor": "white",
           "zerolinewidth": 2
          },
          "yaxis": {
           "automargin": true,
           "gridcolor": "white",
           "linecolor": "white",
           "ticks": "",
           "title": {
            "standoff": 15
           },
           "zerolinecolor": "white",
           "zerolinewidth": 2
          }
         }
        },
        "xaxis": {
         "anchor": "y",
         "domain": [
          0,
          1
         ],
         "showticklabels": false,
         "title": {
          "text": "Schools"
         }
        },
        "yaxis": {
         "anchor": "x",
         "domain": [
          0,
          1
         ],
         "title": {
          "text": "count"
         }
        }
       }
      }
     },
     "metadata": {},
     "output_type": "display_data"
    }
   ],
   "source": [
    "\n",
    "import plotly.express as px\n",
    "fig = px.bar(data[:20], x=\"_id\", y=\"count\", labels={'_id':'Schools'})\n",
    "fig.update_xaxes(showticklabels=False) # we hide x labels because it takes too much room. We can see school names by hovering bars\n",
    "fig.show()\n"
   ]
  },
  {
   "cell_type": "markdown",
   "metadata": {},
   "source": [
    "# Trainings analytics"
   ]
  },
  {
   "cell_type": "markdown",
   "metadata": {},
   "source": [
    "## Data request"
   ]
  },
  {
   "cell_type": "code",
   "execution_count": 46,
   "metadata": {},
   "outputs": [],
   "source": [
    "cursor = db.quant_researchers.aggregate([\n",
    "  { \"$unwind\": \"$education\" }, # Unwind the education array\n",
    "  { \"$group\": { \"_id\": \"$education.degree\", \"count\": { \"$sum\": 1 } } }, # Group by school and count occurrences\n",
    "  { \"$sort\": { \"count\": -1 } } # Sort by count in descending order\n",
    "])\n",
    "\n",
    "data = list(cursor)"
   ]
  },
  {
   "cell_type": "markdown",
   "metadata": {},
   "source": [
    "## Displaying data"
   ]
  },
  {
   "cell_type": "code",
   "execution_count": 51,
   "metadata": {},
   "outputs": [
    {
     "data": {
      "application/vnd.plotly.v1+json": {
       "config": {
        "plotlyServerURL": "https://plot.ly"
       },
       "data": [
        {
         "alignmentgroup": "True",
         "hovertemplate": "Trainings=%{x}<br>count=%{y}<extra></extra>",
         "legendgroup": "",
         "marker": {
          "color": "#636efa",
          "pattern": {
           "shape": ""
          }
         },
         "name": "",
         "offsetgroup": "",
         "orientation": "v",
         "showlegend": false,
         "textposition": "auto",
         "type": "bar",
         "x": [
          null,
          "Bachelor's degree, Mathematics",
          "Doctor of Philosophy - PhD, Applied Mathematics",
          "Master's degree, Applied Mathematics",
          "Diplôme d'ingénieur, Mathématiques appliquées",
          "Engineer's degree, Applied Mathematics",
          "Diplôme d'ingénieur",
          "Engineer's degree",
          "Master's degree, Mathematics",
          "Classes préparatoires aux grandes écoles (CPGE)",
          "Bachelor's degree, Physics",
          "Master's degree, Physics",
          "Master's degree, Financial Mathematics",
          "Doctor of Philosophy - PhD, Computer Science",
          "Baccalauréat scientifique",
          "Doctor of Philosophy - PhD, Mathematics",
          "Master's degree",
          "Master 1 (M1), Mathématiques appliquées",
          "High School Diploma",
          "Baccalauréat, Scientifique"
         ],
         "xaxis": "x",
         "y": [
          189,
          20,
          18,
          17,
          14,
          13,
          11,
          11,
          11,
          10,
          9,
          9,
          9,
          8,
          8,
          8,
          8,
          8,
          7,
          7
         ],
         "yaxis": "y"
        }
       ],
       "layout": {
        "barmode": "relative",
        "legend": {
         "tracegroupgap": 0
        },
        "margin": {
         "t": 60
        },
        "template": {
         "data": {
          "bar": [
           {
            "error_x": {
             "color": "#2a3f5f"
            },
            "error_y": {
             "color": "#2a3f5f"
            },
            "marker": {
             "line": {
              "color": "#E5ECF6",
              "width": 0.5
             },
             "pattern": {
              "fillmode": "overlay",
              "size": 10,
              "solidity": 0.2
             }
            },
            "type": "bar"
           }
          ],
          "barpolar": [
           {
            "marker": {
             "line": {
              "color": "#E5ECF6",
              "width": 0.5
             },
             "pattern": {
              "fillmode": "overlay",
              "size": 10,
              "solidity": 0.2
             }
            },
            "type": "barpolar"
           }
          ],
          "carpet": [
           {
            "aaxis": {
             "endlinecolor": "#2a3f5f",
             "gridcolor": "white",
             "linecolor": "white",
             "minorgridcolor": "white",
             "startlinecolor": "#2a3f5f"
            },
            "baxis": {
             "endlinecolor": "#2a3f5f",
             "gridcolor": "white",
             "linecolor": "white",
             "minorgridcolor": "white",
             "startlinecolor": "#2a3f5f"
            },
            "type": "carpet"
           }
          ],
          "choropleth": [
           {
            "colorbar": {
             "outlinewidth": 0,
             "ticks": ""
            },
            "type": "choropleth"
           }
          ],
          "contour": [
           {
            "colorbar": {
             "outlinewidth": 0,
             "ticks": ""
            },
            "colorscale": [
             [
              0,
              "#0d0887"
             ],
             [
              0.1111111111111111,
              "#46039f"
             ],
             [
              0.2222222222222222,
              "#7201a8"
             ],
             [
              0.3333333333333333,
              "#9c179e"
             ],
             [
              0.4444444444444444,
              "#bd3786"
             ],
             [
              0.5555555555555556,
              "#d8576b"
             ],
             [
              0.6666666666666666,
              "#ed7953"
             ],
             [
              0.7777777777777778,
              "#fb9f3a"
             ],
             [
              0.8888888888888888,
              "#fdca26"
             ],
             [
              1,
              "#f0f921"
             ]
            ],
            "type": "contour"
           }
          ],
          "contourcarpet": [
           {
            "colorbar": {
             "outlinewidth": 0,
             "ticks": ""
            },
            "type": "contourcarpet"
           }
          ],
          "heatmap": [
           {
            "colorbar": {
             "outlinewidth": 0,
             "ticks": ""
            },
            "colorscale": [
             [
              0,
              "#0d0887"
             ],
             [
              0.1111111111111111,
              "#46039f"
             ],
             [
              0.2222222222222222,
              "#7201a8"
             ],
             [
              0.3333333333333333,
              "#9c179e"
             ],
             [
              0.4444444444444444,
              "#bd3786"
             ],
             [
              0.5555555555555556,
              "#d8576b"
             ],
             [
              0.6666666666666666,
              "#ed7953"
             ],
             [
              0.7777777777777778,
              "#fb9f3a"
             ],
             [
              0.8888888888888888,
              "#fdca26"
             ],
             [
              1,
              "#f0f921"
             ]
            ],
            "type": "heatmap"
           }
          ],
          "heatmapgl": [
           {
            "colorbar": {
             "outlinewidth": 0,
             "ticks": ""
            },
            "colorscale": [
             [
              0,
              "#0d0887"
             ],
             [
              0.1111111111111111,
              "#46039f"
             ],
             [
              0.2222222222222222,
              "#7201a8"
             ],
             [
              0.3333333333333333,
              "#9c179e"
             ],
             [
              0.4444444444444444,
              "#bd3786"
             ],
             [
              0.5555555555555556,
              "#d8576b"
             ],
             [
              0.6666666666666666,
              "#ed7953"
             ],
             [
              0.7777777777777778,
              "#fb9f3a"
             ],
             [
              0.8888888888888888,
              "#fdca26"
             ],
             [
              1,
              "#f0f921"
             ]
            ],
            "type": "heatmapgl"
           }
          ],
          "histogram": [
           {
            "marker": {
             "pattern": {
              "fillmode": "overlay",
              "size": 10,
              "solidity": 0.2
             }
            },
            "type": "histogram"
           }
          ],
          "histogram2d": [
           {
            "colorbar": {
             "outlinewidth": 0,
             "ticks": ""
            },
            "colorscale": [
             [
              0,
              "#0d0887"
             ],
             [
              0.1111111111111111,
              "#46039f"
             ],
             [
              0.2222222222222222,
              "#7201a8"
             ],
             [
              0.3333333333333333,
              "#9c179e"
             ],
             [
              0.4444444444444444,
              "#bd3786"
             ],
             [
              0.5555555555555556,
              "#d8576b"
             ],
             [
              0.6666666666666666,
              "#ed7953"
             ],
             [
              0.7777777777777778,
              "#fb9f3a"
             ],
             [
              0.8888888888888888,
              "#fdca26"
             ],
             [
              1,
              "#f0f921"
             ]
            ],
            "type": "histogram2d"
           }
          ],
          "histogram2dcontour": [
           {
            "colorbar": {
             "outlinewidth": 0,
             "ticks": ""
            },
            "colorscale": [
             [
              0,
              "#0d0887"
             ],
             [
              0.1111111111111111,
              "#46039f"
             ],
             [
              0.2222222222222222,
              "#7201a8"
             ],
             [
              0.3333333333333333,
              "#9c179e"
             ],
             [
              0.4444444444444444,
              "#bd3786"
             ],
             [
              0.5555555555555556,
              "#d8576b"
             ],
             [
              0.6666666666666666,
              "#ed7953"
             ],
             [
              0.7777777777777778,
              "#fb9f3a"
             ],
             [
              0.8888888888888888,
              "#fdca26"
             ],
             [
              1,
              "#f0f921"
             ]
            ],
            "type": "histogram2dcontour"
           }
          ],
          "mesh3d": [
           {
            "colorbar": {
             "outlinewidth": 0,
             "ticks": ""
            },
            "type": "mesh3d"
           }
          ],
          "parcoords": [
           {
            "line": {
             "colorbar": {
              "outlinewidth": 0,
              "ticks": ""
             }
            },
            "type": "parcoords"
           }
          ],
          "pie": [
           {
            "automargin": true,
            "type": "pie"
           }
          ],
          "scatter": [
           {
            "fillpattern": {
             "fillmode": "overlay",
             "size": 10,
             "solidity": 0.2
            },
            "type": "scatter"
           }
          ],
          "scatter3d": [
           {
            "line": {
             "colorbar": {
              "outlinewidth": 0,
              "ticks": ""
             }
            },
            "marker": {
             "colorbar": {
              "outlinewidth": 0,
              "ticks": ""
             }
            },
            "type": "scatter3d"
           }
          ],
          "scattercarpet": [
           {
            "marker": {
             "colorbar": {
              "outlinewidth": 0,
              "ticks": ""
             }
            },
            "type": "scattercarpet"
           }
          ],
          "scattergeo": [
           {
            "marker": {
             "colorbar": {
              "outlinewidth": 0,
              "ticks": ""
             }
            },
            "type": "scattergeo"
           }
          ],
          "scattergl": [
           {
            "marker": {
             "colorbar": {
              "outlinewidth": 0,
              "ticks": ""
             }
            },
            "type": "scattergl"
           }
          ],
          "scattermapbox": [
           {
            "marker": {
             "colorbar": {
              "outlinewidth": 0,
              "ticks": ""
             }
            },
            "type": "scattermapbox"
           }
          ],
          "scatterpolar": [
           {
            "marker": {
             "colorbar": {
              "outlinewidth": 0,
              "ticks": ""
             }
            },
            "type": "scatterpolar"
           }
          ],
          "scatterpolargl": [
           {
            "marker": {
             "colorbar": {
              "outlinewidth": 0,
              "ticks": ""
             }
            },
            "type": "scatterpolargl"
           }
          ],
          "scatterternary": [
           {
            "marker": {
             "colorbar": {
              "outlinewidth": 0,
              "ticks": ""
             }
            },
            "type": "scatterternary"
           }
          ],
          "surface": [
           {
            "colorbar": {
             "outlinewidth": 0,
             "ticks": ""
            },
            "colorscale": [
             [
              0,
              "#0d0887"
             ],
             [
              0.1111111111111111,
              "#46039f"
             ],
             [
              0.2222222222222222,
              "#7201a8"
             ],
             [
              0.3333333333333333,
              "#9c179e"
             ],
             [
              0.4444444444444444,
              "#bd3786"
             ],
             [
              0.5555555555555556,
              "#d8576b"
             ],
             [
              0.6666666666666666,
              "#ed7953"
             ],
             [
              0.7777777777777778,
              "#fb9f3a"
             ],
             [
              0.8888888888888888,
              "#fdca26"
             ],
             [
              1,
              "#f0f921"
             ]
            ],
            "type": "surface"
           }
          ],
          "table": [
           {
            "cells": {
             "fill": {
              "color": "#EBF0F8"
             },
             "line": {
              "color": "white"
             }
            },
            "header": {
             "fill": {
              "color": "#C8D4E3"
             },
             "line": {
              "color": "white"
             }
            },
            "type": "table"
           }
          ]
         },
         "layout": {
          "annotationdefaults": {
           "arrowcolor": "#2a3f5f",
           "arrowhead": 0,
           "arrowwidth": 1
          },
          "autotypenumbers": "strict",
          "coloraxis": {
           "colorbar": {
            "outlinewidth": 0,
            "ticks": ""
           }
          },
          "colorscale": {
           "diverging": [
            [
             0,
             "#8e0152"
            ],
            [
             0.1,
             "#c51b7d"
            ],
            [
             0.2,
             "#de77ae"
            ],
            [
             0.3,
             "#f1b6da"
            ],
            [
             0.4,
             "#fde0ef"
            ],
            [
             0.5,
             "#f7f7f7"
            ],
            [
             0.6,
             "#e6f5d0"
            ],
            [
             0.7,
             "#b8e186"
            ],
            [
             0.8,
             "#7fbc41"
            ],
            [
             0.9,
             "#4d9221"
            ],
            [
             1,
             "#276419"
            ]
           ],
           "sequential": [
            [
             0,
             "#0d0887"
            ],
            [
             0.1111111111111111,
             "#46039f"
            ],
            [
             0.2222222222222222,
             "#7201a8"
            ],
            [
             0.3333333333333333,
             "#9c179e"
            ],
            [
             0.4444444444444444,
             "#bd3786"
            ],
            [
             0.5555555555555556,
             "#d8576b"
            ],
            [
             0.6666666666666666,
             "#ed7953"
            ],
            [
             0.7777777777777778,
             "#fb9f3a"
            ],
            [
             0.8888888888888888,
             "#fdca26"
            ],
            [
             1,
             "#f0f921"
            ]
           ],
           "sequentialminus": [
            [
             0,
             "#0d0887"
            ],
            [
             0.1111111111111111,
             "#46039f"
            ],
            [
             0.2222222222222222,
             "#7201a8"
            ],
            [
             0.3333333333333333,
             "#9c179e"
            ],
            [
             0.4444444444444444,
             "#bd3786"
            ],
            [
             0.5555555555555556,
             "#d8576b"
            ],
            [
             0.6666666666666666,
             "#ed7953"
            ],
            [
             0.7777777777777778,
             "#fb9f3a"
            ],
            [
             0.8888888888888888,
             "#fdca26"
            ],
            [
             1,
             "#f0f921"
            ]
           ]
          },
          "colorway": [
           "#636efa",
           "#EF553B",
           "#00cc96",
           "#ab63fa",
           "#FFA15A",
           "#19d3f3",
           "#FF6692",
           "#B6E880",
           "#FF97FF",
           "#FECB52"
          ],
          "font": {
           "color": "#2a3f5f"
          },
          "geo": {
           "bgcolor": "white",
           "lakecolor": "white",
           "landcolor": "#E5ECF6",
           "showlakes": true,
           "showland": true,
           "subunitcolor": "white"
          },
          "hoverlabel": {
           "align": "left"
          },
          "hovermode": "closest",
          "mapbox": {
           "style": "light"
          },
          "paper_bgcolor": "white",
          "plot_bgcolor": "#E5ECF6",
          "polar": {
           "angularaxis": {
            "gridcolor": "white",
            "linecolor": "white",
            "ticks": ""
           },
           "bgcolor": "#E5ECF6",
           "radialaxis": {
            "gridcolor": "white",
            "linecolor": "white",
            "ticks": ""
           }
          },
          "scene": {
           "xaxis": {
            "backgroundcolor": "#E5ECF6",
            "gridcolor": "white",
            "gridwidth": 2,
            "linecolor": "white",
            "showbackground": true,
            "ticks": "",
            "zerolinecolor": "white"
           },
           "yaxis": {
            "backgroundcolor": "#E5ECF6",
            "gridcolor": "white",
            "gridwidth": 2,
            "linecolor": "white",
            "showbackground": true,
            "ticks": "",
            "zerolinecolor": "white"
           },
           "zaxis": {
            "backgroundcolor": "#E5ECF6",
            "gridcolor": "white",
            "gridwidth": 2,
            "linecolor": "white",
            "showbackground": true,
            "ticks": "",
            "zerolinecolor": "white"
           }
          },
          "shapedefaults": {
           "line": {
            "color": "#2a3f5f"
           }
          },
          "ternary": {
           "aaxis": {
            "gridcolor": "white",
            "linecolor": "white",
            "ticks": ""
           },
           "baxis": {
            "gridcolor": "white",
            "linecolor": "white",
            "ticks": ""
           },
           "bgcolor": "#E5ECF6",
           "caxis": {
            "gridcolor": "white",
            "linecolor": "white",
            "ticks": ""
           }
          },
          "title": {
           "x": 0.05
          },
          "xaxis": {
           "automargin": true,
           "gridcolor": "white",
           "linecolor": "white",
           "ticks": "",
           "title": {
            "standoff": 15
           },
           "zerolinecolor": "white",
           "zerolinewidth": 2
          },
          "yaxis": {
           "automargin": true,
           "gridcolor": "white",
           "linecolor": "white",
           "ticks": "",
           "title": {
            "standoff": 15
           },
           "zerolinecolor": "white",
           "zerolinewidth": 2
          }
         }
        },
        "xaxis": {
         "anchor": "y",
         "domain": [
          0,
          1
         ],
         "showticklabels": false,
         "title": {
          "text": "Trainings"
         }
        },
        "yaxis": {
         "anchor": "x",
         "domain": [
          0,
          1
         ],
         "title": {
          "text": "count"
         }
        }
       }
      }
     },
     "metadata": {},
     "output_type": "display_data"
    }
   ],
   "source": [
    "import plotly.express as px\n",
    "fig = px.bar(data[:20], x=\"_id\", y=\"count\", labels={'_id':'Training'})\n",
    "fig.update_xaxes(showticklabels=False) # we hide x labels because it takes too much room. We can see school names by hovering bars\n",
    "fig.show()"
   ]
  },
  {
   "cell_type": "markdown",
   "metadata": {},
   "source": [
    "# Masters"
   ]
  },
  {
   "cell_type": "code",
   "execution_count": 77,
   "metadata": {},
   "outputs": [],
   "source": [
    "cursor = db.quant_researchers.aggregate([\n",
    "  { \"$unwind\": \"$education\" }, # Unwind the education array\n",
    "  { \"$match\": { \"education.degree\": { \"$regex\": \"Master|M\\.Sc|MSc\", \"$options\" :'i' } } }, # Match degrees containing \"master\"\n",
    "  { \"$group\": { \"_id\": \"$education.degree\", \"count\": { \"$sum\": 1 } } }, # Group by school and count occurrences\n",
    "  { \"$sort\": { \"count\": -1 } } # Sort by count in descending order\n",
    "])\n",
    "data = list(cursor)"
   ]
  },
  {
   "cell_type": "code",
   "execution_count": 80,
   "metadata": {},
   "outputs": [
    {
     "data": {
      "application/vnd.plotly.v1+json": {
       "config": {
        "plotlyServerURL": "https://plot.ly"
       },
       "data": [
        {
         "alignmentgroup": "True",
         "hovertemplate": "Master=%{x}<br>count=%{y}<extra></extra>",
         "legendgroup": "",
         "marker": {
          "color": "#636efa",
          "pattern": {
           "shape": ""
          }
         },
         "name": "",
         "offsetgroup": "",
         "orientation": "v",
         "showlegend": false,
         "textposition": "auto",
         "type": "bar",
         "x": [
          "Master's degree, Applied Mathematics",
          "Master's degree, Mathematics",
          "Master's degree, Physics",
          "Master's degree, Financial Mathematics",
          "Master 1 (M1), Mathématiques appliquées",
          "Master's degree",
          "Master's degree, Data Science",
          "Master of Science - MS, Applied Mathematics",
          "Master of Science - MS",
          "Master's degree, Quantitative Finance",
          "Master 1 (M1), Applied Mathematics",
          "Master of Science - MS, Computer Science",
          "Master's degree, Financial Engineering",
          "Master's degree, Physics of Complex Systems",
          "Master of Science - MS, Data Science",
          "Master of Business Administration - MBA",
          "Master in Management",
          "Master 2 (M2), Mathématiques Vision Apprentissage",
          "Master of Science - MS, Mathematics",
          "Master's degree, Mathematics and Statistics",
          "Master of Science - MS, Financial Mathematics",
          "Master’s Degree, Physics",
          "Master's degree, Computer Science",
          "Master of Engineering - MEng, Financial Engineering",
          "Master 1 (M1), Mathématiques",
          "Master’s Degree, Mathematics",
          "Master of Science - MS, Quantitative Finance",
          "Master of Science - MS, Machine Learning",
          "Master's degree, Econometrics and Quantitative Economics",
          "Master's degree, Mathématiques appliquées",
          "Master's degree, Engineering",
          "Master's degree, Applied mathematics",
          "Master of Engineering, Applied Mathematics",
          "Master's degree, Theoretical and Mathematical Physics",
          "Master 2 (M2), Data Science",
          "Master's degree, Theoretical Physics",
          "Master of Engineering - MEng, Applied Mathematics",
          "Master's degree, Probability and Finance (ex DEA El Karoui)",
          "Master 2 (M2), Probabilités et Finance (Ex DEA El Karoui)",
          "Master 2 (M2), Finance, général"
         ],
         "xaxis": "x",
         "y": [
          17,
          11,
          9,
          9,
          8,
          8,
          6,
          6,
          6,
          5,
          5,
          5,
          4,
          4,
          4,
          4,
          4,
          3,
          3,
          3,
          3,
          3,
          3,
          3,
          3,
          3,
          3,
          3,
          3,
          3,
          3,
          3,
          3,
          3,
          3,
          3,
          3,
          3,
          3,
          3
         ],
         "yaxis": "y"
        }
       ],
       "layout": {
        "barmode": "relative",
        "legend": {
         "tracegroupgap": 0
        },
        "margin": {
         "t": 60
        },
        "template": {
         "data": {
          "bar": [
           {
            "error_x": {
             "color": "#2a3f5f"
            },
            "error_y": {
             "color": "#2a3f5f"
            },
            "marker": {
             "line": {
              "color": "#E5ECF6",
              "width": 0.5
             },
             "pattern": {
              "fillmode": "overlay",
              "size": 10,
              "solidity": 0.2
             }
            },
            "type": "bar"
           }
          ],
          "barpolar": [
           {
            "marker": {
             "line": {
              "color": "#E5ECF6",
              "width": 0.5
             },
             "pattern": {
              "fillmode": "overlay",
              "size": 10,
              "solidity": 0.2
             }
            },
            "type": "barpolar"
           }
          ],
          "carpet": [
           {
            "aaxis": {
             "endlinecolor": "#2a3f5f",
             "gridcolor": "white",
             "linecolor": "white",
             "minorgridcolor": "white",
             "startlinecolor": "#2a3f5f"
            },
            "baxis": {
             "endlinecolor": "#2a3f5f",
             "gridcolor": "white",
             "linecolor": "white",
             "minorgridcolor": "white",
             "startlinecolor": "#2a3f5f"
            },
            "type": "carpet"
           }
          ],
          "choropleth": [
           {
            "colorbar": {
             "outlinewidth": 0,
             "ticks": ""
            },
            "type": "choropleth"
           }
          ],
          "contour": [
           {
            "colorbar": {
             "outlinewidth": 0,
             "ticks": ""
            },
            "colorscale": [
             [
              0,
              "#0d0887"
             ],
             [
              0.1111111111111111,
              "#46039f"
             ],
             [
              0.2222222222222222,
              "#7201a8"
             ],
             [
              0.3333333333333333,
              "#9c179e"
             ],
             [
              0.4444444444444444,
              "#bd3786"
             ],
             [
              0.5555555555555556,
              "#d8576b"
             ],
             [
              0.6666666666666666,
              "#ed7953"
             ],
             [
              0.7777777777777778,
              "#fb9f3a"
             ],
             [
              0.8888888888888888,
              "#fdca26"
             ],
             [
              1,
              "#f0f921"
             ]
            ],
            "type": "contour"
           }
          ],
          "contourcarpet": [
           {
            "colorbar": {
             "outlinewidth": 0,
             "ticks": ""
            },
            "type": "contourcarpet"
           }
          ],
          "heatmap": [
           {
            "colorbar": {
             "outlinewidth": 0,
             "ticks": ""
            },
            "colorscale": [
             [
              0,
              "#0d0887"
             ],
             [
              0.1111111111111111,
              "#46039f"
             ],
             [
              0.2222222222222222,
              "#7201a8"
             ],
             [
              0.3333333333333333,
              "#9c179e"
             ],
             [
              0.4444444444444444,
              "#bd3786"
             ],
             [
              0.5555555555555556,
              "#d8576b"
             ],
             [
              0.6666666666666666,
              "#ed7953"
             ],
             [
              0.7777777777777778,
              "#fb9f3a"
             ],
             [
              0.8888888888888888,
              "#fdca26"
             ],
             [
              1,
              "#f0f921"
             ]
            ],
            "type": "heatmap"
           }
          ],
          "heatmapgl": [
           {
            "colorbar": {
             "outlinewidth": 0,
             "ticks": ""
            },
            "colorscale": [
             [
              0,
              "#0d0887"
             ],
             [
              0.1111111111111111,
              "#46039f"
             ],
             [
              0.2222222222222222,
              "#7201a8"
             ],
             [
              0.3333333333333333,
              "#9c179e"
             ],
             [
              0.4444444444444444,
              "#bd3786"
             ],
             [
              0.5555555555555556,
              "#d8576b"
             ],
             [
              0.6666666666666666,
              "#ed7953"
             ],
             [
              0.7777777777777778,
              "#fb9f3a"
             ],
             [
              0.8888888888888888,
              "#fdca26"
             ],
             [
              1,
              "#f0f921"
             ]
            ],
            "type": "heatmapgl"
           }
          ],
          "histogram": [
           {
            "marker": {
             "pattern": {
              "fillmode": "overlay",
              "size": 10,
              "solidity": 0.2
             }
            },
            "type": "histogram"
           }
          ],
          "histogram2d": [
           {
            "colorbar": {
             "outlinewidth": 0,
             "ticks": ""
            },
            "colorscale": [
             [
              0,
              "#0d0887"
             ],
             [
              0.1111111111111111,
              "#46039f"
             ],
             [
              0.2222222222222222,
              "#7201a8"
             ],
             [
              0.3333333333333333,
              "#9c179e"
             ],
             [
              0.4444444444444444,
              "#bd3786"
             ],
             [
              0.5555555555555556,
              "#d8576b"
             ],
             [
              0.6666666666666666,
              "#ed7953"
             ],
             [
              0.7777777777777778,
              "#fb9f3a"
             ],
             [
              0.8888888888888888,
              "#fdca26"
             ],
             [
              1,
              "#f0f921"
             ]
            ],
            "type": "histogram2d"
           }
          ],
          "histogram2dcontour": [
           {
            "colorbar": {
             "outlinewidth": 0,
             "ticks": ""
            },
            "colorscale": [
             [
              0,
              "#0d0887"
             ],
             [
              0.1111111111111111,
              "#46039f"
             ],
             [
              0.2222222222222222,
              "#7201a8"
             ],
             [
              0.3333333333333333,
              "#9c179e"
             ],
             [
              0.4444444444444444,
              "#bd3786"
             ],
             [
              0.5555555555555556,
              "#d8576b"
             ],
             [
              0.6666666666666666,
              "#ed7953"
             ],
             [
              0.7777777777777778,
              "#fb9f3a"
             ],
             [
              0.8888888888888888,
              "#fdca26"
             ],
             [
              1,
              "#f0f921"
             ]
            ],
            "type": "histogram2dcontour"
           }
          ],
          "mesh3d": [
           {
            "colorbar": {
             "outlinewidth": 0,
             "ticks": ""
            },
            "type": "mesh3d"
           }
          ],
          "parcoords": [
           {
            "line": {
             "colorbar": {
              "outlinewidth": 0,
              "ticks": ""
             }
            },
            "type": "parcoords"
           }
          ],
          "pie": [
           {
            "automargin": true,
            "type": "pie"
           }
          ],
          "scatter": [
           {
            "fillpattern": {
             "fillmode": "overlay",
             "size": 10,
             "solidity": 0.2
            },
            "type": "scatter"
           }
          ],
          "scatter3d": [
           {
            "line": {
             "colorbar": {
              "outlinewidth": 0,
              "ticks": ""
             }
            },
            "marker": {
             "colorbar": {
              "outlinewidth": 0,
              "ticks": ""
             }
            },
            "type": "scatter3d"
           }
          ],
          "scattercarpet": [
           {
            "marker": {
             "colorbar": {
              "outlinewidth": 0,
              "ticks": ""
             }
            },
            "type": "scattercarpet"
           }
          ],
          "scattergeo": [
           {
            "marker": {
             "colorbar": {
              "outlinewidth": 0,
              "ticks": ""
             }
            },
            "type": "scattergeo"
           }
          ],
          "scattergl": [
           {
            "marker": {
             "colorbar": {
              "outlinewidth": 0,
              "ticks": ""
             }
            },
            "type": "scattergl"
           }
          ],
          "scattermapbox": [
           {
            "marker": {
             "colorbar": {
              "outlinewidth": 0,
              "ticks": ""
             }
            },
            "type": "scattermapbox"
           }
          ],
          "scatterpolar": [
           {
            "marker": {
             "colorbar": {
              "outlinewidth": 0,
              "ticks": ""
             }
            },
            "type": "scatterpolar"
           }
          ],
          "scatterpolargl": [
           {
            "marker": {
             "colorbar": {
              "outlinewidth": 0,
              "ticks": ""
             }
            },
            "type": "scatterpolargl"
           }
          ],
          "scatterternary": [
           {
            "marker": {
             "colorbar": {
              "outlinewidth": 0,
              "ticks": ""
             }
            },
            "type": "scatterternary"
           }
          ],
          "surface": [
           {
            "colorbar": {
             "outlinewidth": 0,
             "ticks": ""
            },
            "colorscale": [
             [
              0,
              "#0d0887"
             ],
             [
              0.1111111111111111,
              "#46039f"
             ],
             [
              0.2222222222222222,
              "#7201a8"
             ],
             [
              0.3333333333333333,
              "#9c179e"
             ],
             [
              0.4444444444444444,
              "#bd3786"
             ],
             [
              0.5555555555555556,
              "#d8576b"
             ],
             [
              0.6666666666666666,
              "#ed7953"
             ],
             [
              0.7777777777777778,
              "#fb9f3a"
             ],
             [
              0.8888888888888888,
              "#fdca26"
             ],
             [
              1,
              "#f0f921"
             ]
            ],
            "type": "surface"
           }
          ],
          "table": [
           {
            "cells": {
             "fill": {
              "color": "#EBF0F8"
             },
             "line": {
              "color": "white"
             }
            },
            "header": {
             "fill": {
              "color": "#C8D4E3"
             },
             "line": {
              "color": "white"
             }
            },
            "type": "table"
           }
          ]
         },
         "layout": {
          "annotationdefaults": {
           "arrowcolor": "#2a3f5f",
           "arrowhead": 0,
           "arrowwidth": 1
          },
          "autotypenumbers": "strict",
          "coloraxis": {
           "colorbar": {
            "outlinewidth": 0,
            "ticks": ""
           }
          },
          "colorscale": {
           "diverging": [
            [
             0,
             "#8e0152"
            ],
            [
             0.1,
             "#c51b7d"
            ],
            [
             0.2,
             "#de77ae"
            ],
            [
             0.3,
             "#f1b6da"
            ],
            [
             0.4,
             "#fde0ef"
            ],
            [
             0.5,
             "#f7f7f7"
            ],
            [
             0.6,
             "#e6f5d0"
            ],
            [
             0.7,
             "#b8e186"
            ],
            [
             0.8,
             "#7fbc41"
            ],
            [
             0.9,
             "#4d9221"
            ],
            [
             1,
             "#276419"
            ]
           ],
           "sequential": [
            [
             0,
             "#0d0887"
            ],
            [
             0.1111111111111111,
             "#46039f"
            ],
            [
             0.2222222222222222,
             "#7201a8"
            ],
            [
             0.3333333333333333,
             "#9c179e"
            ],
            [
             0.4444444444444444,
             "#bd3786"
            ],
            [
             0.5555555555555556,
             "#d8576b"
            ],
            [
             0.6666666666666666,
             "#ed7953"
            ],
            [
             0.7777777777777778,
             "#fb9f3a"
            ],
            [
             0.8888888888888888,
             "#fdca26"
            ],
            [
             1,
             "#f0f921"
            ]
           ],
           "sequentialminus": [
            [
             0,
             "#0d0887"
            ],
            [
             0.1111111111111111,
             "#46039f"
            ],
            [
             0.2222222222222222,
             "#7201a8"
            ],
            [
             0.3333333333333333,
             "#9c179e"
            ],
            [
             0.4444444444444444,
             "#bd3786"
            ],
            [
             0.5555555555555556,
             "#d8576b"
            ],
            [
             0.6666666666666666,
             "#ed7953"
            ],
            [
             0.7777777777777778,
             "#fb9f3a"
            ],
            [
             0.8888888888888888,
             "#fdca26"
            ],
            [
             1,
             "#f0f921"
            ]
           ]
          },
          "colorway": [
           "#636efa",
           "#EF553B",
           "#00cc96",
           "#ab63fa",
           "#FFA15A",
           "#19d3f3",
           "#FF6692",
           "#B6E880",
           "#FF97FF",
           "#FECB52"
          ],
          "font": {
           "color": "#2a3f5f"
          },
          "geo": {
           "bgcolor": "white",
           "lakecolor": "white",
           "landcolor": "#E5ECF6",
           "showlakes": true,
           "showland": true,
           "subunitcolor": "white"
          },
          "hoverlabel": {
           "align": "left"
          },
          "hovermode": "closest",
          "mapbox": {
           "style": "light"
          },
          "paper_bgcolor": "white",
          "plot_bgcolor": "#E5ECF6",
          "polar": {
           "angularaxis": {
            "gridcolor": "white",
            "linecolor": "white",
            "ticks": ""
           },
           "bgcolor": "#E5ECF6",
           "radialaxis": {
            "gridcolor": "white",
            "linecolor": "white",
            "ticks": ""
           }
          },
          "scene": {
           "xaxis": {
            "backgroundcolor": "#E5ECF6",
            "gridcolor": "white",
            "gridwidth": 2,
            "linecolor": "white",
            "showbackground": true,
            "ticks": "",
            "zerolinecolor": "white"
           },
           "yaxis": {
            "backgroundcolor": "#E5ECF6",
            "gridcolor": "white",
            "gridwidth": 2,
            "linecolor": "white",
            "showbackground": true,
            "ticks": "",
            "zerolinecolor": "white"
           },
           "zaxis": {
            "backgroundcolor": "#E5ECF6",
            "gridcolor": "white",
            "gridwidth": 2,
            "linecolor": "white",
            "showbackground": true,
            "ticks": "",
            "zerolinecolor": "white"
           }
          },
          "shapedefaults": {
           "line": {
            "color": "#2a3f5f"
           }
          },
          "ternary": {
           "aaxis": {
            "gridcolor": "white",
            "linecolor": "white",
            "ticks": ""
           },
           "baxis": {
            "gridcolor": "white",
            "linecolor": "white",
            "ticks": ""
           },
           "bgcolor": "#E5ECF6",
           "caxis": {
            "gridcolor": "white",
            "linecolor": "white",
            "ticks": ""
           }
          },
          "title": {
           "x": 0.05
          },
          "xaxis": {
           "automargin": true,
           "gridcolor": "white",
           "linecolor": "white",
           "ticks": "",
           "title": {
            "standoff": 15
           },
           "zerolinecolor": "white",
           "zerolinewidth": 2
          },
          "yaxis": {
           "automargin": true,
           "gridcolor": "white",
           "linecolor": "white",
           "ticks": "",
           "title": {
            "standoff": 15
           },
           "zerolinecolor": "white",
           "zerolinewidth": 2
          }
         }
        },
        "xaxis": {
         "anchor": "y",
         "domain": [
          0,
          1
         ],
         "showticklabels": false,
         "title": {
          "text": "Master"
         }
        },
        "yaxis": {
         "anchor": "x",
         "domain": [
          0,
          1
         ],
         "title": {
          "text": "count"
         }
        }
       }
      }
     },
     "metadata": {},
     "output_type": "display_data"
    }
   ],
   "source": [
    "import plotly.express as px\n",
    "fig = px.bar(data[:40], x=\"_id\", y=\"count\", labels={'_id':'Master'})\n",
    "fig.update_xaxes(showticklabels=False) # we hide x labels because it takes too much room. We can see school names by hovering bars\n",
    "fig.show()"
   ]
  },
  {
   "cell_type": "code",
   "execution_count": 98,
   "metadata": {},
   "outputs": [],
   "source": [
    "cursor = db.quant_researchers.aggregate([\n",
    "  { \"$unwind\": \"$education\" }, # Unwind the education array\n",
    "  { \"$match\": { \"education.degree\": { \"$regex\": \"Master|M\\.Sc|MSc\", \"$options\" :'i' } } }, # Match degrees containing \"master\"\n",
    "  { \"$group\": { \n",
    "      \"_id\": { \"school\": \"$education.school\", \"degree\": \"$education.degree\" }, \n",
    "      \"count\": { \"$sum\": 1 } \n",
    "    } \n",
    "  }, # Group by school and degree and count occurrences\n",
    "  { \"$sort\": { \"count\": -1 } } # Sort by count in descending order\n",
    "])\n",
    "data = list(cursor)\n",
    "data = [{ \"Master\": f\"{edu['_id']['school']} | {edu['_id']['degree']}\", \"count\": edu[\"count\"] } for edu in data]"
   ]
  },
  {
   "cell_type": "code",
   "execution_count": 99,
   "metadata": {},
   "outputs": [
    {
     "data": {
      "application/vnd.plotly.v1+json": {
       "config": {
        "plotlyServerURL": "https://plot.ly"
       },
       "data": [
        {
         "alignmentgroup": "True",
         "hovertemplate": "Master=%{x}<br>count=%{y}<extra></extra>",
         "legendgroup": "",
         "marker": {
          "color": "#636efa",
          "pattern": {
           "shape": ""
          }
         },
         "name": "",
         "offsetgroup": "",
         "orientation": "v",
         "showlegend": false,
         "textposition": "auto",
         "type": "bar",
         "x": [
          "École Polytechnique | Master's degree, Applied Mathematics",
          "Ecole normale supérieure | Master's degree, Theoretical and Mathematical Physics",
          "Université Paris-Saclay | Master 1 (M1), Mathématiques appliquées",
          "ESILV - Ecole Supérieure d'Ingénieurs Léonard de Vinci | Master of Engineering - MEng, Financial Engineering",
          "Université Paris Dauphine - PSL | Master 1 (M1), Mathématiques appliquées",
          "Université Paris-Saclay | Master 2 (M2), Finance Quantitative",
          "Academy of Economic Studies Bucharest | Master of Science (M.Sc.), Communication",
          "Collège des Ingénieurs | Master of Business Administration - MBA",
          "École Polytechnique | Master 2 (M2), Probabilités et Finance (Ex DEA El Karoui)",
          "SISSA | Master's degree, Physics of Complex Systems",
          "Université Paris Dauphine - PSL | Master 2 (M2), Igénierie Statistique et Financière (Apprentissage) ",
          "ENSAE Paris | Specialised Master's degree, Data Science",
          "Université Paris-Saclay | Master's degree, Applied Mathematics",
          "The Johns Hopkins University | Master of Science - MS, Computer Science",
          "Pierre and Marie Curie University | Master's degree, Applied Mathematics",
          "École normale supérieure Paris-Saclay | Master 2 (M2), Mathématiques Vision Apprentissage",
          "Ecole normale supérieure | Master, Theoretical Physics",
          "École Polytechnique | Master 2 (M2), Statistics and Finance",
          "École Polytechnique | Master's degree, Mathématiques appliquées",
          "université de Franche-Comté | Master 1, Statistics models",
          "Université Paris Dauphine - PSL | Master Mathématiques Apprentissage Statistique et Big Data, Mathématiques et statistiques",
          "Université Paris Dauphine - PSL | Master 1 (M1), Applied Mathematics",
          "ESILV - Ecole Supérieure d'Ingénieurs Léonard de Vinci | Master 2 (M2), Finance, général",
          "Imperial College London | Master of Science - MS, Mathematics and Finance",
          "Université Paris Dauphine - PSL | First year of Master's degree in apprenticeship, Economic and Financial Engineering, specialisation in Market Finance",
          "Université Paris-Saclay | Master 2, AMS (Analyse, Modélisation, Simulation)",
          "Université Paris Cité | Master's degree, M2MO (ex-DEA Laure Elie) - Statistics and Stochastic Models in Finance",
          "École Polytechnique | Master's degree, Data Science",
          "Rotterdam School of Management Erasmus University | Research Master (Master of Science + Doctoral School), Business Administration, Marketing, Consumer Behavior",
          "IMT Atlantique | Master of Engineering - MEng, Mathematics and Computer Science",
          "Université Paris Dauphine - PSL | Second year of Master's degree in apprenticeship, Economic and Financial Engineering, specialisation in Quantitative Finance",
          "Université Sorbonne Paris Nord | Master, Financial modeling",
          "National University of Singapore | Master of Sciences (MSc), Mathematics ",
          "Institut Polytechnique de Paris | Master 2 (M2), Data Science",
          "EPFL (École polytechnique fédérale de Lausanne) | Master's degree, Financial Engineering",
          "Karlsruhe Institute of Technology (KIT) | Master's degree, Physics",
          "Université Paris-Saclay | Master 2 (M2), Finance quantitative ",
          "Ecole Centrale de Paris | Master of Engineering (MEng), Grande Ecole d’Ingénieur",
          "HEC Paris | Master in Management",
          "Université Paris Dauphine - PSL | Master 2 (M2), Mathématiques et statistiques"
         ],
         "xaxis": "x",
         "y": [
          3,
          3,
          3,
          3,
          3,
          2,
          2,
          2,
          2,
          2,
          2,
          2,
          2,
          2,
          2,
          2,
          2,
          2,
          2,
          2,
          2,
          2,
          2,
          2,
          2,
          2,
          2,
          2,
          2,
          2,
          2,
          2,
          2,
          2,
          2,
          2,
          2,
          2,
          2,
          2
         ],
         "yaxis": "y"
        }
       ],
       "layout": {
        "barmode": "relative",
        "legend": {
         "tracegroupgap": 0
        },
        "margin": {
         "t": 60
        },
        "template": {
         "data": {
          "bar": [
           {
            "error_x": {
             "color": "#2a3f5f"
            },
            "error_y": {
             "color": "#2a3f5f"
            },
            "marker": {
             "line": {
              "color": "#E5ECF6",
              "width": 0.5
             },
             "pattern": {
              "fillmode": "overlay",
              "size": 10,
              "solidity": 0.2
             }
            },
            "type": "bar"
           }
          ],
          "barpolar": [
           {
            "marker": {
             "line": {
              "color": "#E5ECF6",
              "width": 0.5
             },
             "pattern": {
              "fillmode": "overlay",
              "size": 10,
              "solidity": 0.2
             }
            },
            "type": "barpolar"
           }
          ],
          "carpet": [
           {
            "aaxis": {
             "endlinecolor": "#2a3f5f",
             "gridcolor": "white",
             "linecolor": "white",
             "minorgridcolor": "white",
             "startlinecolor": "#2a3f5f"
            },
            "baxis": {
             "endlinecolor": "#2a3f5f",
             "gridcolor": "white",
             "linecolor": "white",
             "minorgridcolor": "white",
             "startlinecolor": "#2a3f5f"
            },
            "type": "carpet"
           }
          ],
          "choropleth": [
           {
            "colorbar": {
             "outlinewidth": 0,
             "ticks": ""
            },
            "type": "choropleth"
           }
          ],
          "contour": [
           {
            "colorbar": {
             "outlinewidth": 0,
             "ticks": ""
            },
            "colorscale": [
             [
              0,
              "#0d0887"
             ],
             [
              0.1111111111111111,
              "#46039f"
             ],
             [
              0.2222222222222222,
              "#7201a8"
             ],
             [
              0.3333333333333333,
              "#9c179e"
             ],
             [
              0.4444444444444444,
              "#bd3786"
             ],
             [
              0.5555555555555556,
              "#d8576b"
             ],
             [
              0.6666666666666666,
              "#ed7953"
             ],
             [
              0.7777777777777778,
              "#fb9f3a"
             ],
             [
              0.8888888888888888,
              "#fdca26"
             ],
             [
              1,
              "#f0f921"
             ]
            ],
            "type": "contour"
           }
          ],
          "contourcarpet": [
           {
            "colorbar": {
             "outlinewidth": 0,
             "ticks": ""
            },
            "type": "contourcarpet"
           }
          ],
          "heatmap": [
           {
            "colorbar": {
             "outlinewidth": 0,
             "ticks": ""
            },
            "colorscale": [
             [
              0,
              "#0d0887"
             ],
             [
              0.1111111111111111,
              "#46039f"
             ],
             [
              0.2222222222222222,
              "#7201a8"
             ],
             [
              0.3333333333333333,
              "#9c179e"
             ],
             [
              0.4444444444444444,
              "#bd3786"
             ],
             [
              0.5555555555555556,
              "#d8576b"
             ],
             [
              0.6666666666666666,
              "#ed7953"
             ],
             [
              0.7777777777777778,
              "#fb9f3a"
             ],
             [
              0.8888888888888888,
              "#fdca26"
             ],
             [
              1,
              "#f0f921"
             ]
            ],
            "type": "heatmap"
           }
          ],
          "heatmapgl": [
           {
            "colorbar": {
             "outlinewidth": 0,
             "ticks": ""
            },
            "colorscale": [
             [
              0,
              "#0d0887"
             ],
             [
              0.1111111111111111,
              "#46039f"
             ],
             [
              0.2222222222222222,
              "#7201a8"
             ],
             [
              0.3333333333333333,
              "#9c179e"
             ],
             [
              0.4444444444444444,
              "#bd3786"
             ],
             [
              0.5555555555555556,
              "#d8576b"
             ],
             [
              0.6666666666666666,
              "#ed7953"
             ],
             [
              0.7777777777777778,
              "#fb9f3a"
             ],
             [
              0.8888888888888888,
              "#fdca26"
             ],
             [
              1,
              "#f0f921"
             ]
            ],
            "type": "heatmapgl"
           }
          ],
          "histogram": [
           {
            "marker": {
             "pattern": {
              "fillmode": "overlay",
              "size": 10,
              "solidity": 0.2
             }
            },
            "type": "histogram"
           }
          ],
          "histogram2d": [
           {
            "colorbar": {
             "outlinewidth": 0,
             "ticks": ""
            },
            "colorscale": [
             [
              0,
              "#0d0887"
             ],
             [
              0.1111111111111111,
              "#46039f"
             ],
             [
              0.2222222222222222,
              "#7201a8"
             ],
             [
              0.3333333333333333,
              "#9c179e"
             ],
             [
              0.4444444444444444,
              "#bd3786"
             ],
             [
              0.5555555555555556,
              "#d8576b"
             ],
             [
              0.6666666666666666,
              "#ed7953"
             ],
             [
              0.7777777777777778,
              "#fb9f3a"
             ],
             [
              0.8888888888888888,
              "#fdca26"
             ],
             [
              1,
              "#f0f921"
             ]
            ],
            "type": "histogram2d"
           }
          ],
          "histogram2dcontour": [
           {
            "colorbar": {
             "outlinewidth": 0,
             "ticks": ""
            },
            "colorscale": [
             [
              0,
              "#0d0887"
             ],
             [
              0.1111111111111111,
              "#46039f"
             ],
             [
              0.2222222222222222,
              "#7201a8"
             ],
             [
              0.3333333333333333,
              "#9c179e"
             ],
             [
              0.4444444444444444,
              "#bd3786"
             ],
             [
              0.5555555555555556,
              "#d8576b"
             ],
             [
              0.6666666666666666,
              "#ed7953"
             ],
             [
              0.7777777777777778,
              "#fb9f3a"
             ],
             [
              0.8888888888888888,
              "#fdca26"
             ],
             [
              1,
              "#f0f921"
             ]
            ],
            "type": "histogram2dcontour"
           }
          ],
          "mesh3d": [
           {
            "colorbar": {
             "outlinewidth": 0,
             "ticks": ""
            },
            "type": "mesh3d"
           }
          ],
          "parcoords": [
           {
            "line": {
             "colorbar": {
              "outlinewidth": 0,
              "ticks": ""
             }
            },
            "type": "parcoords"
           }
          ],
          "pie": [
           {
            "automargin": true,
            "type": "pie"
           }
          ],
          "scatter": [
           {
            "fillpattern": {
             "fillmode": "overlay",
             "size": 10,
             "solidity": 0.2
            },
            "type": "scatter"
           }
          ],
          "scatter3d": [
           {
            "line": {
             "colorbar": {
              "outlinewidth": 0,
              "ticks": ""
             }
            },
            "marker": {
             "colorbar": {
              "outlinewidth": 0,
              "ticks": ""
             }
            },
            "type": "scatter3d"
           }
          ],
          "scattercarpet": [
           {
            "marker": {
             "colorbar": {
              "outlinewidth": 0,
              "ticks": ""
             }
            },
            "type": "scattercarpet"
           }
          ],
          "scattergeo": [
           {
            "marker": {
             "colorbar": {
              "outlinewidth": 0,
              "ticks": ""
             }
            },
            "type": "scattergeo"
           }
          ],
          "scattergl": [
           {
            "marker": {
             "colorbar": {
              "outlinewidth": 0,
              "ticks": ""
             }
            },
            "type": "scattergl"
           }
          ],
          "scattermapbox": [
           {
            "marker": {
             "colorbar": {
              "outlinewidth": 0,
              "ticks": ""
             }
            },
            "type": "scattermapbox"
           }
          ],
          "scatterpolar": [
           {
            "marker": {
             "colorbar": {
              "outlinewidth": 0,
              "ticks": ""
             }
            },
            "type": "scatterpolar"
           }
          ],
          "scatterpolargl": [
           {
            "marker": {
             "colorbar": {
              "outlinewidth": 0,
              "ticks": ""
             }
            },
            "type": "scatterpolargl"
           }
          ],
          "scatterternary": [
           {
            "marker": {
             "colorbar": {
              "outlinewidth": 0,
              "ticks": ""
             }
            },
            "type": "scatterternary"
           }
          ],
          "surface": [
           {
            "colorbar": {
             "outlinewidth": 0,
             "ticks": ""
            },
            "colorscale": [
             [
              0,
              "#0d0887"
             ],
             [
              0.1111111111111111,
              "#46039f"
             ],
             [
              0.2222222222222222,
              "#7201a8"
             ],
             [
              0.3333333333333333,
              "#9c179e"
             ],
             [
              0.4444444444444444,
              "#bd3786"
             ],
             [
              0.5555555555555556,
              "#d8576b"
             ],
             [
              0.6666666666666666,
              "#ed7953"
             ],
             [
              0.7777777777777778,
              "#fb9f3a"
             ],
             [
              0.8888888888888888,
              "#fdca26"
             ],
             [
              1,
              "#f0f921"
             ]
            ],
            "type": "surface"
           }
          ],
          "table": [
           {
            "cells": {
             "fill": {
              "color": "#EBF0F8"
             },
             "line": {
              "color": "white"
             }
            },
            "header": {
             "fill": {
              "color": "#C8D4E3"
             },
             "line": {
              "color": "white"
             }
            },
            "type": "table"
           }
          ]
         },
         "layout": {
          "annotationdefaults": {
           "arrowcolor": "#2a3f5f",
           "arrowhead": 0,
           "arrowwidth": 1
          },
          "autotypenumbers": "strict",
          "coloraxis": {
           "colorbar": {
            "outlinewidth": 0,
            "ticks": ""
           }
          },
          "colorscale": {
           "diverging": [
            [
             0,
             "#8e0152"
            ],
            [
             0.1,
             "#c51b7d"
            ],
            [
             0.2,
             "#de77ae"
            ],
            [
             0.3,
             "#f1b6da"
            ],
            [
             0.4,
             "#fde0ef"
            ],
            [
             0.5,
             "#f7f7f7"
            ],
            [
             0.6,
             "#e6f5d0"
            ],
            [
             0.7,
             "#b8e186"
            ],
            [
             0.8,
             "#7fbc41"
            ],
            [
             0.9,
             "#4d9221"
            ],
            [
             1,
             "#276419"
            ]
           ],
           "sequential": [
            [
             0,
             "#0d0887"
            ],
            [
             0.1111111111111111,
             "#46039f"
            ],
            [
             0.2222222222222222,
             "#7201a8"
            ],
            [
             0.3333333333333333,
             "#9c179e"
            ],
            [
             0.4444444444444444,
             "#bd3786"
            ],
            [
             0.5555555555555556,
             "#d8576b"
            ],
            [
             0.6666666666666666,
             "#ed7953"
            ],
            [
             0.7777777777777778,
             "#fb9f3a"
            ],
            [
             0.8888888888888888,
             "#fdca26"
            ],
            [
             1,
             "#f0f921"
            ]
           ],
           "sequentialminus": [
            [
             0,
             "#0d0887"
            ],
            [
             0.1111111111111111,
             "#46039f"
            ],
            [
             0.2222222222222222,
             "#7201a8"
            ],
            [
             0.3333333333333333,
             "#9c179e"
            ],
            [
             0.4444444444444444,
             "#bd3786"
            ],
            [
             0.5555555555555556,
             "#d8576b"
            ],
            [
             0.6666666666666666,
             "#ed7953"
            ],
            [
             0.7777777777777778,
             "#fb9f3a"
            ],
            [
             0.8888888888888888,
             "#fdca26"
            ],
            [
             1,
             "#f0f921"
            ]
           ]
          },
          "colorway": [
           "#636efa",
           "#EF553B",
           "#00cc96",
           "#ab63fa",
           "#FFA15A",
           "#19d3f3",
           "#FF6692",
           "#B6E880",
           "#FF97FF",
           "#FECB52"
          ],
          "font": {
           "color": "#2a3f5f"
          },
          "geo": {
           "bgcolor": "white",
           "lakecolor": "white",
           "landcolor": "#E5ECF6",
           "showlakes": true,
           "showland": true,
           "subunitcolor": "white"
          },
          "hoverlabel": {
           "align": "left"
          },
          "hovermode": "closest",
          "mapbox": {
           "style": "light"
          },
          "paper_bgcolor": "white",
          "plot_bgcolor": "#E5ECF6",
          "polar": {
           "angularaxis": {
            "gridcolor": "white",
            "linecolor": "white",
            "ticks": ""
           },
           "bgcolor": "#E5ECF6",
           "radialaxis": {
            "gridcolor": "white",
            "linecolor": "white",
            "ticks": ""
           }
          },
          "scene": {
           "xaxis": {
            "backgroundcolor": "#E5ECF6",
            "gridcolor": "white",
            "gridwidth": 2,
            "linecolor": "white",
            "showbackground": true,
            "ticks": "",
            "zerolinecolor": "white"
           },
           "yaxis": {
            "backgroundcolor": "#E5ECF6",
            "gridcolor": "white",
            "gridwidth": 2,
            "linecolor": "white",
            "showbackground": true,
            "ticks": "",
            "zerolinecolor": "white"
           },
           "zaxis": {
            "backgroundcolor": "#E5ECF6",
            "gridcolor": "white",
            "gridwidth": 2,
            "linecolor": "white",
            "showbackground": true,
            "ticks": "",
            "zerolinecolor": "white"
           }
          },
          "shapedefaults": {
           "line": {
            "color": "#2a3f5f"
           }
          },
          "ternary": {
           "aaxis": {
            "gridcolor": "white",
            "linecolor": "white",
            "ticks": ""
           },
           "baxis": {
            "gridcolor": "white",
            "linecolor": "white",
            "ticks": ""
           },
           "bgcolor": "#E5ECF6",
           "caxis": {
            "gridcolor": "white",
            "linecolor": "white",
            "ticks": ""
           }
          },
          "title": {
           "x": 0.05
          },
          "xaxis": {
           "automargin": true,
           "gridcolor": "white",
           "linecolor": "white",
           "ticks": "",
           "title": {
            "standoff": 15
           },
           "zerolinecolor": "white",
           "zerolinewidth": 2
          },
          "yaxis": {
           "automargin": true,
           "gridcolor": "white",
           "linecolor": "white",
           "ticks": "",
           "title": {
            "standoff": 15
           },
           "zerolinecolor": "white",
           "zerolinewidth": 2
          }
         }
        },
        "xaxis": {
         "anchor": "y",
         "domain": [
          0,
          1
         ],
         "showticklabels": false,
         "title": {
          "text": "Master"
         }
        },
        "yaxis": {
         "anchor": "x",
         "domain": [
          0,
          1
         ],
         "title": {
          "text": "count"
         }
        }
       }
      }
     },
     "metadata": {},
     "output_type": "display_data"
    }
   ],
   "source": [
    "import plotly.express as px\n",
    "fig = px.bar(data[:40], x=\"Master\", y=\"count\")\n",
    "fig.update_xaxes(showticklabels=False) # we hide x labels because it takes too much room. We can see school names by hovering bars\n",
    "fig.show()"
   ]
  },
  {
   "cell_type": "markdown",
   "metadata": {},
   "source": [
    "# Research by school"
   ]
  },
  {
   "cell_type": "code",
   "execution_count": 18,
   "metadata": {},
   "outputs": [],
   "source": [
    "cursor = db.quant_researchers.aggregate([\n",
    "  { \"$unwind\": \"$education\" }, # Unwind the education array\n",
    "  { \"$match\": { \"education.school\": { \"$regex\": \"Polytech Nantes\", \"$options\" :'i' } } },\n",
    "  { \"$group\": { \n",
    "      \"_id\": { \"school\": \"$education.school\" }, \n",
    "      \"count\": { \"$sum\": 1 } \n",
    "    } \n",
    "  }\n",
    "])\n",
    "\n",
    "data = list(cursor)"
   ]
  },
  {
   "cell_type": "markdown",
   "metadata": {},
   "source": [
    "# People who went to Polytech"
   ]
  },
  {
   "cell_type": "code",
   "execution_count": 37,
   "metadata": {},
   "outputs": [],
   "source": [
    "cursor = db.quant_researchers.aggregate([\n",
    "    {\n",
    "        \"$match\": {\n",
    "            \"education.school\": {\"$regex\": \"^Polytech \", \"$options\": \"i\"}\n",
    "        }\n",
    "    }\n",
    "])\n",
    "\n",
    "data = list(cursor)"
   ]
  },
  {
   "cell_type": "code",
   "execution_count": 36,
   "metadata": {},
   "outputs": [
    {
     "data": {
      "text/plain": [
       "[{'_id': ObjectId('65cbc705630f2b2cf0e77742'),\n",
       "  'profile_url': 'https://www.linkedin.com/in/vincentfuentes',\n",
       "  'education': [{'school': 'Polytech Lille',\n",
       "    'degree': \"Master's of Science, Statistics and Software Engineering\"}]},\n",
       " {'_id': ObjectId('65cbd394630f2b2cf0e7786a'),\n",
       "  'profile_url': 'https://www.linkedin.com/in/zhejiayu-ma',\n",
       "  'education': [{'school': \"Université Côte d'Azur\",\n",
       "    'degree': 'Doctor of Philosophy - PhD, Computer Science'},\n",
       "   {'school': 'Polytech Nantes',\n",
       "    'degree': \"Diplôme d'ingénieur, Informatique\"},\n",
       "   {'school': 'South China University of Technology',\n",
       "    'degree': 'Licence, Informatique'}]},\n",
       " {'_id': ObjectId('65cbd880630f2b2cf0e778df'),\n",
       "  'profile_url': 'https://www.linkedin.com/in/vinetlouis',\n",
       "  'education': [{'school': 'Polytech Nantes',\n",
       "    'degree': 'Master Cultures numériques, Études pluridisciplinaires'},\n",
       "   {'school': 'Sorbonne Université',\n",
       "    'degree': 'Master 2 (M2), Philosophie : Conseil éditorial et gestion des contenus plurimédias'},\n",
       "   {'school': 'Sorbonne Université',\n",
       "    'degree': 'Master 1 (M1), Philosophie politique et Ethique'},\n",
       "   {'school': 'Sorbonne Université',\n",
       "    'degree': 'Licence, 3ème année, Lettres modernes appliquées'},\n",
       "   {'school': 'UQAM | Université du Québec à Montréal',\n",
       "    'degree': 'Licence, 1ère et 2ème année, Etudes littéraires'}]},\n",
       " {'_id': ObjectId('65cbe136630f2b2cf0e779a7'),\n",
       "  'profile_url': 'https://www.linkedin.com/in/gabin-taibi',\n",
       "  'education': [{'school': 'Berner Fachhochschule BFH',\n",
       "    'degree': 'PhD, Digital Finance, Data Science and AI'},\n",
       "   {'school': 'ESC Clermont Business School',\n",
       "    'degree': 'Double-degree engineer-manager, Business Development'},\n",
       "   {'school': 'Polytech Clermont',\n",
       "    'degree': 'Engineering degree, Mathematics, statistics and computer science'},\n",
       "   {'school': 'Université Clermont Auvergne',\n",
       "    'degree': 'University Degree, Mathematics and computer science'},\n",
       "   {'school': 'Lycée Théophile Roussel',\n",
       "    'degree': 'Baccalauréat général, Sciences - option mathématiques et section européenne'}]},\n",
       " {'_id': ObjectId('65cbe23b630f2b2cf0e779bf'),\n",
       "  'profile_url': 'https://www.linkedin.com/in/lucas-goncalves-se',\n",
       "  'education': [{'school': 'Polytech Montpellier',\n",
       "    'degree': \"Diplôme d'ingénieur, Informatique et gestion\"},\n",
       "   {'school': 'Faculté d’économie de Montpellier',\n",
       "    'degree': 'DU Investigation Numérique et Pénale, Technologie informatique / technologie des systèmes informatiques'},\n",
       "   {'school': 'IUT de Béziers',\n",
       "    'degree': \"DUT , Métiers du multimédia et de l'Internet\"}]},\n",
       " {'_id': ObjectId('65cbeb24630f2b2cf0e77a91'),\n",
       "  'profile_url': 'https://www.linkedin.com/in/guilhermessc',\n",
       "  'education': [{'school': 'Aalto University',\n",
       "    'degree': \"Master's degree, Data Science\"},\n",
       "   {'school': 'Université Paris-Saclay',\n",
       "    'degree': 'MSc Data Science | EIT Digital Double Degree, Artificial Intelligence'},\n",
       "   {'school': 'EIT Digital Alumni', 'degree': 'MSc Data Science'},\n",
       "   {'school': 'Polytech Nice Sophia',\n",
       "    'degree': 'Exchange Program, Informatic Systems'},\n",
       "   {'school': 'Centro de Informática UFPE',\n",
       "    'degree': 'Bachelor of Science - BS, Computer Engineering'}]}]"
      ]
     },
     "execution_count": 36,
     "metadata": {},
     "output_type": "execute_result"
    }
   ],
   "source": [
    "data"
   ]
  },
  {
   "cell_type": "code",
   "execution_count": 94,
   "metadata": {},
   "outputs": [],
   "source": [
    "degrees = [\n",
    "    {\n",
    "        \"degree\": \"Parcours Probabilités et Finance\",\n",
    "        \"school\": \"Institut Polytechnique de Paris\",\n",
    "        \"school_regex\": \"Sorbonne|Polytechnique|UPMC|Pierre.*Marie.*Curie\",\n",
    "        \"degree_regex\": \"Probabilit.*Finance|El Karoui\"\n",
    "    },\n",
    "    {\n",
    "        \"degree\": \"Modélisation aléatoire, finance et data sciences\",\n",
    "        \"school\": \"Université Paris Cité\",\n",
    "        \"school_regex\": \"Paris.*Cité|Diderot|ENSAE|CentraleSup(e|é)lec|Sorbonne|Polytechnique\",\n",
    "        \"degree_regex\": \"Laure (É|E)lie|M2MO|(Random Mod.*|Mod.* Al(é|e)atoire).*Finance.*Data Science\"\n",
    "    },\n",
    "    {\n",
    "        \"degree\": \"Ingénierie Statistique et Financière\",\n",
    "        \"school\": \"Université Paris Dauphine-PSL\",\n",
    "        \"school_regex\": \"Dauphine|PSL\",\n",
    "        \"degree_regex\": \"Ing(é|e)nierie Statistique.*Financi(e|è)re|Statistical.*Financial Engineering\"\n",
    "    },\n",
    "    {\n",
    "        \"degree\": \"Research in Finance\",\n",
    "        \"school\": \"Université Paris Dauphine-PSL\",\n",
    "        \"school_regex\": \"Dauphine|PSL\",\n",
    "        \"degree_regex\": \"Re(search|cherche) (i|e)n Finance\"\n",
    "    },\n",
    "    {\n",
    "        \"degree\": \"Mathématiques de l'Assurance de l'Economie et de la Finance\",\n",
    "        \"school\": \"Université Paris Dauphine-PSL\",\n",
    "        \"school_regex\": \"Dauphine|PSL\",\n",
    "        \"degree_regex\": \" Math.*(As|In)surance.*Econom.*Finance\"\n",
    "    },\n",
    "    {\n",
    "        \"degree\": \"Ingénierie économique et financière\",\n",
    "        \"school\": \"Université Paris Dauphine-PSL\",\n",
    "        \"school_regex\": \"Dauphine|PSL\",\n",
    "        \"degree_regex\": \"Ingénierie économique et financière|Economic and financial engineering\"\n",
    "    },\n",
    "    {\n",
    "        \"degree\": \"Mathématiques, Apprentissage, Sciences et Humanités\",\n",
    "        \"school\": \"Université Paris Dauphine-PSL\",\n",
    "        \"school_regex\": \"Dauphine|PSL\",\n",
    "        \"degree_regex\": \"Math.*(Apprentissage|Learning).*Sciences.*Human.*\"\n",
    "    },\n",
    "    {\n",
    "        \"degree\": \"Quantitative Economic Analysis\",\n",
    "        \"school\": \"Université Paris Dauphine-PSL\",\n",
    "        \"school_regex\": \"Dauphine|PSL\",\n",
    "        \"degree_regex\": \"Quantitative Economic Analysis|Analyse quantitative (é|e)conomique\"\n",
    "    },\n",
    "    {\n",
    "        \"degree\": \"Financial Markets\",\n",
    "        \"school\": \"Université Paris Dauphine-PSL\",\n",
    "        \"school_regex\": \"Dauphine|PSL\",\n",
    "        \"degree_regex\": \"Financial Markets|Marchés Financiers\"\n",
    "    },\n",
    "    {\n",
    "        \"degree\": \"Modélisation et Méthodes Mathématiques en Economie et Finance​​\",\n",
    "        \"school\": \"Université Panthéon - Sorbonne\",\n",
    "        \"school_regex\": \"Panthéon.*Sorbonne\",\n",
    "        \"degree_regex\": \"MMMEF|Mod.*(Méth.*Math.*|Math.*Meth*).*Econom.*Finance​​\"\n",
    "    },\n",
    "    {\n",
    "        \"degree\": \"Modélisations statistiques économiques et financières\",\n",
    "        \"school\": \"Université Panthéon - Sorbonne\",\n",
    "        \"school_regex\": \"Panthéon.*Sorbonne\",\n",
    "        \"degree_regex\": \"MOSEF|Modélisation.*statistique.*économique.*financière|Economic.*financial statistical modeling\"\n",
    "    },\n",
    "    {\n",
    "        \"degree\": \"Ingénierie du Risque : Finance et Assurance\",\n",
    "        \"school\": \"Université Panthéon - Sorbonne\",\n",
    "        \"school_regex\": \"Panthéon.*Sorbonne|Afia\",\n",
    "        \"degree_regex\": \"Ing(é|e)nierie du Risque.*Finance.*Assurance|IRFA|Risk Engineering.*Finance.*Insurance|Ingénierie Mathématique de la Finance|Math.*Eng.*Finance\"\n",
    "    },\n",
    "    {\n",
    "        \"degree\": \"Monnaie, Banque, Finance, Assurance (Parcours techniques financières.*bancaires)\",\n",
    "        \"school\": \"Université Panthéon - Assas\",\n",
    "        \"school_regex\": \"Panthéon.*Assas\",\n",
    "        \"degree_regex\": \"Mon.*Ban.*Finance|Technique.*Financ.*Bancaires|Financ.*Bank.*Tech.*\"\n",
    "    },\n",
    "    {\n",
    "        \"degree\": \"Ingénierie financière et modèles aléatoires\",\n",
    "        \"school\": \"Sorbonne Université Sciences\",\n",
    "        \"school_regex\": \"Sorbonne|CFA.*Science\",\n",
    "        \"degree_regex\": \"IFMA|Ingénierie mathématique|Math.*Engineering|Ingénierie financière.*modèles aléatoires|Financial engineering.*random models\"\n",
    "    },\n",
    "    {\n",
    "        \"degree\": \"Probabilités et Modèles Aléatoires\",\n",
    "        \"school\": \"Sorbonne Université Sciences\",\n",
    "        \"school_regex\": \"Sorbonne\",\n",
    "        \"degree_regex\": \"Probabilit.*Modèles Aléatoires|Probability.*Random Models\"\n",
    "    },\n",
    "    {\n",
    "        \"degree\": \"Ingénierie Statistique et Informatique de la Finance, de l'Assurance et du Risque\",\n",
    "        \"school\": \"Université Paris Cité\",\n",
    "        \"school_regex\": \"Paris.*Cité\",\n",
    "        \"degree_regex\": \"Ing.*Stat.*Informatique.*Finance.*Assurance.*Risque|Stat.*Computer Engineering.*Finance.*Insurance.*Risk|ISIFAR\"\n",
    "    },\n",
    "    {\n",
    "        \"degree\": \"Statistique du risque\",\n",
    "        \"school\": \"Université de Nanterre\",\n",
    "        \"school_regex\": \"Nanterre\",\n",
    "        \"degree_regex\": \"Stat.*ris.*|ISEFAR\"\n",
    "    },\n",
    "    {\n",
    "        \"degree\": \"DATA SCIENCE : SANTÉ, ASSURANCE ET FINANCE\",\n",
    "        \"school\": \"Université Paris-Saclay\",\n",
    "        \"school_regex\": \"Paris.*Saclay\",\n",
    "        \"degree_regex\": \"(SANTÉ|Health).*(AS|In)SURANCE.*FINANCE\"\n",
    "    },\n",
    "    {\n",
    "        \"degree\": \"Finance quantitative\",\n",
    "        \"school\": \"Université Paris-Saclay\",\n",
    "        \"school_regex\": \"Paris.*Saclay\",\n",
    "        \"degree_regex\": \"M2QF|FINANCE QUANTITATIVE|Quant.*Finance\"\n",
    "    },\n",
    "    {\n",
    "        \"degree\": \"Mathématiques de l'aléatoire\",\n",
    "        \"school\": \"Université Paris-Saclay\",\n",
    "        \"school_regex\": \"Paris.*Saclay\",\n",
    "        \"degree_regex\": \"Math*.(Random|Aléa).*\"\n",
    "    },\n",
    "    {\n",
    "        \"degree\": \"Mathématiques de la finance et des données\",\n",
    "        \"school\": \"Université Gustave Eiffel & UPEC\",\n",
    "        \"school_regex\": \"Gustave.*Eiffel|UPEC|Paris.*Est|(E|É)cole.*Ponts\",\n",
    "        \"degree_regex\": \"Lamberton|MFD|Math.*Finance.*D(ata|onnées)\"\n",
    "    },\n",
    "    {\n",
    "        \"degree\": \"Mathématiques et informatique\",\n",
    "        \"school\": \"UPEC\",\n",
    "        \"school_regex\": \"UPEC|Paris.*Est\",\n",
    "        \"degree_regex\": \"Math.*(INFORMATIQUE|Computer)\"\n",
    "    },\n",
    "    {\n",
    "        \"degree\": \"Probabilités et Statistiques des nouvelles données\",\n",
    "        \"school\": \"Université Gustave Eiffel & UPEC\",\n",
    "        \"school_regex\": \"Gustave.*Eiffel|UPEC|Paris.*Est\",\n",
    "        \"degree_regex\": \"Proba.*Stat.*(nouvelles données|new data)\"\n",
    "    },\n",
    "    {\n",
    "        \"degree\": \"Mathématiques Appliquées à l'Ingénierie Financière\",\n",
    "        \"school\": \"CY Cergy Paris Université\",\n",
    "        \"school_regex\": \"CY|Cergy\",\n",
    "        \"degree_regex\": \"Math.*Appli.*(Financial Engineering|Ing.*Financ.*)|MAIF\"\n",
    "    },\n",
    "    {\n",
    "        \"degree\": \"Mathematics of Randomness\",\n",
    "        \"school\": \"Institut Polytechnique de Paris\",\n",
    "        \"school_regex\": \"Polytechnique|ENSAE|ENSTA|T(é|e)l(é|e)com.*Paris\",\n",
    "        \"degree_regex\": \"Mathematics of Randomness|Mathématiques de l'aléatoire\"\n",
    "    },\n",
    "    {\n",
    "        \"degree\": \"Statistics, Finance and Actuarial Science\",\n",
    "        \"school\": \"Institut Polytechnique de Paris\",\n",
    "        \"school_regex\": \"Polytechnique|ENSAE|ENSTA|T(é|e)l(é|e)com.*Paris\",\n",
    "        \"degree_regex\": \"Stat.*Finance.*Actuaria.*\"\n",
    "    },\n",
    "    {\n",
    "        \"degree\": \"Ingénierie Financière et Modélisation\",\n",
    "        \"school\": \"Université Sorbonne Paris Nord\",\n",
    "        \"school_regex\": \"Sorbonne.*Nord|UFR de sciences économiques et gestion|SEG\",\n",
    "        \"degree_regex\": \"Ingénierie Financière et Modélisation|Financial Engineering and Modeling\"\n",
    "    },\n",
    "    {\n",
    "        \"degree\": \"Ingénierie des Risques Financiers\",\n",
    "        \"school\": \"Institut de science financière et d'assurances\",\n",
    "        \"school_regex\": \"ISFA|Institut de science financière et d'assurances\",\n",
    "        \"degree_regex\": \"Ingénierie des Risques Financiers|Financial Risk Engineering|IRF\"\n",
    "    },\n",
    "    {\n",
    "        \"degree\": \"Finance Quantitative\",\n",
    "        \"school\": \"Grenoble IAE\",\n",
    "        \"school_regex\": \"Grenoble IAE|INP|UGA|Grenoble.*Alpes\",\n",
    "        \"degree_regex\": \"Finance Quantitative|Quant.*Finance\"\n",
    "    },\n",
    "    {\n",
    "        \"degree\": \"Mathématiques, finance computationnelle, actuariat\",\n",
    "        \"school\": \"Université de Lille\",\n",
    "        \"school_regex\": \"Universit.*Lille|Lille\",\n",
    "        \"degree_regex\": \"Math.*(finance computationnelle|comput.*finance).*actuaria.*\"\n",
    "    },\n",
    "    {\n",
    "        \"degree\": \"Finance quantitative\",\n",
    "        \"school\": \"IAE Lille\",\n",
    "        \"school_regex\": \"Universit.*Lille|IAE Lille|Lille\",\n",
    "        \"degree_regex\": \"Finance Quantitative|Quant.*Finance\"\n",
    "    },\n",
    "    {\n",
    "        \"degree\": \"Informatique et Mathématiques Appliquées à la Finance et à l'Assurance\",\n",
    "        \"school\": \"Université Côte d'Azur\",\n",
    "        \"school_regex\": \"Nice|Azur\",\n",
    "        \"degree_regex\": \"IFAMA|Informatique.*Mathématiques Appliquées à la Finance et à l'Assurance|Computer Science and Mathematics Applied to Finance and Insurance\"\n",
    "    },\n",
    "    {\n",
    "        \"degree\": \"M. Sc. Finance mathématique et computationnelle\",\n",
    "        \"school\": \"Université de Montréal\",\n",
    "        \"school_regex\": \"Montréal\",\n",
    "        \"degree_regex\": \"Finance mathématique et computationnelle|Math.*comput.*Finance\"\n",
    "    },\n",
    "    {\n",
    "        \"degree\": \"MCom (Quantitative Finance) Research\",\n",
    "        \"school\": \"University of Johannesburg\",\n",
    "        \"school_regex\": \"Johannesburg\",\n",
    "        \"degree_regex\": \"Quant.*Finance\"\n",
    "    },\n",
    "    {\n",
    "        \"degree\": \"Quantitative Finance\",\n",
    "        \"school\": \"Wirtschafts Universität\",\n",
    "        \"school_regex\": \"Wirtschafts|WU.*Vienna\",\n",
    "        \"degree_regex\": \"Quant.*Finance\"\n",
    "    },\n",
    "    {\n",
    "        \"degree\": \"M. Sc. Finance\",\n",
    "        \"school\": \"Universität Ulm\",\n",
    "        \"school_regex\": \"Universität Ulm|University of Ulm\",\n",
    "        \"degree_regex\": \"Finance\"\n",
    "    },\n",
    "    {\n",
    "        \"degree\": \"Financial mathematics\",\n",
    "        \"school\": \"Université du Luxembourg\",\n",
    "        \"school_regex\": \"Universit.*Luxembourg\",\n",
    "        \"degree_regex\": \"Financ.*math|Math.*Finan\"\n",
    "    },\n",
    "    {\n",
    "        \"degree\": \"M. Sc. in Quantitative Finance\",\n",
    "        \"school\": \"University of Zurich\",\n",
    "        \"school_regex\": \"University.*Zurich\",\n",
    "        \"degree_regex\": \"Quant.*Finance\"\n",
    "    },\n",
    "    {\n",
    "        \"degree\": \"M. Sc. in Quantitative finance\",\n",
    "        \"school\": \"Erasmus University Rotterdam\",\n",
    "        \"school_regex\": \"Rotterdam\",\n",
    "        \"degree_regex\": \"Quant.*Finance\"\n",
    "    },\n",
    "    {\n",
    "        \"degree\": \"Mathematical Finance and Actuarial Science\",\n",
    "        \"school\": \"Technical University of Munich\",\n",
    "        \"school_regex\": \"Munich\",\n",
    "        \"degree_regex\": \"Math.*Finance.*Actu.*Science\"\n",
    "    },\n",
    "    {\n",
    "        \"degree\": \"Stochastics and Financial Mathematics\",\n",
    "        \"school\": \"University of Amsterdam\",\n",
    "        \"school_regex\": \"Amsterdam\",\n",
    "        \"degree_regex\": \"Stochas.*(Math.*Finan.*|Finan.*Math.*)\"\n",
    "    },\n",
    "    {\n",
    "        \"degree\": \"Quantitative finance\",\n",
    "        \"school\": \"University of Bologna\",\n",
    "        \"school_regex\": \"Bologna|Bologne\",\n",
    "        \"degree_regex\": \"Quant.*Finance\"\n",
    "    },\n",
    "    {\n",
    "        \"degree\": \"Quantitative finance\",\n",
    "        \"school\": \"Vienna University of Economics and Business\",\n",
    "        \"school_regex\": \"Vienna\",\n",
    "        \"degree_regex\": \"Quant.*Finance\"\n",
    "    }\n",
    "]"
   ]
  },
  {
   "cell_type": "markdown",
   "metadata": {},
   "source": [
    "# Every spotted master"
   ]
  },
  {
   "cell_type": "code",
   "execution_count": 95,
   "metadata": {},
   "outputs": [],
   "source": [
    "\n",
    "for degree in degrees:\n",
    "\n",
    "  cursor = db.quant_researchers.aggregate([\n",
    "    { \n",
    "      \"$match\": {\n",
    "          \"$and\": [\n",
    "            { \"education.school\": {\"$regex\": degree[\"school_regex\"]} },\n",
    "            { \"education.degree\": {\"$regex\": degree[\"degree_regex\"]} }\n",
    "          ]\n",
    "      } \n",
    "    },\n",
    "    { \n",
    "      \"$group\": { \n",
    "        \"_id\": None, \n",
    "        \"count\": { \"$sum\": 1 } \n",
    "      } \n",
    "    }\n",
    "  ])\n",
    "  data = list(cursor)\n",
    "  if data:\n",
    "    degree[\"count\"] = data[0][\"count\"]\n",
    "  else:\n",
    "    degree[\"count\"] = 0"
   ]
  },
  {
   "cell_type": "code",
   "execution_count": 97,
   "metadata": {},
   "outputs": [
    {
     "data": {
      "application/vnd.plotly.v1+json": {
       "config": {
        "plotlyServerURL": "https://plot.ly"
       },
       "data": [
        {
         "alignmentgroup": "True",
         "customdata": [
          [
           "Institut Polytechnique de Paris"
          ],
          [
           "Université Paris Cité"
          ],
          [
           "Université Gustave Eiffel & UPEC"
          ],
          [
           "Grenoble IAE"
          ],
          [
           "Université Paris-Saclay"
          ],
          [
           "Université Paris Dauphine-PSL"
          ],
          [
           "Sorbonne Université Sciences"
          ],
          [
           "Université Paris Dauphine-PSL"
          ],
          [
           "Université Panthéon - Sorbonne"
          ],
          [
           "Institut Polytechnique de Paris"
          ],
          [
           "Université Paris Dauphine-PSL"
          ],
          [
           "Université Paris Dauphine-PSL"
          ],
          [
           "Université Paris Cité"
          ],
          [
           "IAE Lille"
          ],
          [
           "Erasmus University Rotterdam"
          ],
          [
           "University of Bologna"
          ],
          [
           "Université Paris Dauphine-PSL"
          ],
          [
           "Université Panthéon - Sorbonne"
          ],
          [
           "Université du Luxembourg"
          ],
          [
           "Université Paris Dauphine-PSL"
          ],
          [
           "Université Paris Dauphine-PSL"
          ],
          [
           "Université Panthéon - Sorbonne"
          ],
          [
           "Université Panthéon - Assas"
          ],
          [
           "Sorbonne Université Sciences"
          ],
          [
           "Université de Nanterre"
          ],
          [
           "Université Paris-Saclay"
          ],
          [
           "Université Paris-Saclay"
          ],
          [
           "UPEC"
          ],
          [
           "Université Gustave Eiffel & UPEC"
          ],
          [
           "CY Cergy Paris Université"
          ],
          [
           "Institut Polytechnique de Paris"
          ],
          [
           "Université Sorbonne Paris Nord"
          ],
          [
           "Institut de science financière et d'assurances"
          ],
          [
           "Université de Lille"
          ],
          [
           "Université Côte d'Azur"
          ],
          [
           "Université de Montréal"
          ],
          [
           "University of Johannesburg"
          ],
          [
           "Wirtschafts Universität"
          ],
          [
           "Universität Ulm"
          ],
          [
           "University of Zurich"
          ],
          [
           "Technical University of Munich"
          ],
          [
           "University of Amsterdam"
          ],
          [
           "Vienna University of Economics and Business"
          ]
         ],
         "hovertemplate": "degree=%{x}<br>count=%{y}<br>school=%{customdata[0]}<extra></extra>",
         "legendgroup": "",
         "marker": {
          "color": "#636efa",
          "pattern": {
           "shape": ""
          }
         },
         "name": "",
         "offsetgroup": "",
         "orientation": "v",
         "showlegend": false,
         "textposition": "auto",
         "type": "bar",
         "x": [
          "Parcours Probabilités et Finance",
          "Modélisation aléatoire, finance et data sciences",
          "Mathématiques de la finance et des données",
          "Finance Quantitative",
          "Finance quantitative",
          "Financial Markets",
          "Ingénierie financière et modèles aléatoires",
          "Ingénierie Statistique et Financière",
          "Modélisation et Méthodes Mathématiques en Economie et Finance​​",
          "Statistics, Finance and Actuarial Science",
          "Mathématiques de l'Assurance de l'Economie et de la Finance",
          "Ingénierie économique et financière",
          "Ingénierie Statistique et Informatique de la Finance, de l'Assurance et du Risque",
          "Finance quantitative",
          "M. Sc. in Quantitative finance",
          "Quantitative finance",
          "Research in Finance",
          "Ingénierie du Risque : Finance et Assurance",
          "Financial mathematics",
          "Mathématiques, Apprentissage, Sciences et Humanités",
          "Quantitative Economic Analysis",
          "Modélisations statistiques économiques et financières",
          "Monnaie, Banque, Finance, Assurance (Parcours techniques financières.*bancaires)",
          "Probabilités et Modèles Aléatoires",
          "Statistique du risque",
          "DATA SCIENCE : SANTÉ, ASSURANCE ET FINANCE",
          "Mathématiques de l'aléatoire",
          "Mathématiques et informatique",
          "Probabilités et Statistiques des nouvelles données",
          "Mathématiques Appliquées à l'Ingénierie Financière",
          "Mathematics of Randomness",
          "Ingénierie Financière et Modélisation",
          "Ingénierie des Risques Financiers",
          "Mathématiques, finance computationnelle, actuariat",
          "Informatique et Mathématiques Appliquées à la Finance et à l'Assurance",
          "M. Sc. Finance mathématique et computationnelle",
          "MCom (Quantitative Finance) Research",
          "Quantitative Finance",
          "M. Sc. Finance",
          "M. Sc. in Quantitative Finance",
          "Mathematical Finance and Actuarial Science",
          "Stochastics and Financial Mathematics",
          "Quantitative finance"
         ],
         "xaxis": "x",
         "y": [
          90,
          40,
          9,
          9,
          8,
          6,
          5,
          4,
          4,
          3,
          2,
          2,
          2,
          2,
          2,
          2,
          1,
          1,
          1,
          0,
          0,
          0,
          0,
          0,
          0,
          0,
          0,
          0,
          0,
          0,
          0,
          0,
          0,
          0,
          0,
          0,
          0,
          0,
          0,
          0,
          0,
          0,
          0
         ],
         "yaxis": "y"
        }
       ],
       "layout": {
        "barmode": "relative",
        "legend": {
         "tracegroupgap": 0
        },
        "margin": {
         "t": 60
        },
        "template": {
         "data": {
          "bar": [
           {
            "error_x": {
             "color": "#2a3f5f"
            },
            "error_y": {
             "color": "#2a3f5f"
            },
            "marker": {
             "line": {
              "color": "#E5ECF6",
              "width": 0.5
             },
             "pattern": {
              "fillmode": "overlay",
              "size": 10,
              "solidity": 0.2
             }
            },
            "type": "bar"
           }
          ],
          "barpolar": [
           {
            "marker": {
             "line": {
              "color": "#E5ECF6",
              "width": 0.5
             },
             "pattern": {
              "fillmode": "overlay",
              "size": 10,
              "solidity": 0.2
             }
            },
            "type": "barpolar"
           }
          ],
          "carpet": [
           {
            "aaxis": {
             "endlinecolor": "#2a3f5f",
             "gridcolor": "white",
             "linecolor": "white",
             "minorgridcolor": "white",
             "startlinecolor": "#2a3f5f"
            },
            "baxis": {
             "endlinecolor": "#2a3f5f",
             "gridcolor": "white",
             "linecolor": "white",
             "minorgridcolor": "white",
             "startlinecolor": "#2a3f5f"
            },
            "type": "carpet"
           }
          ],
          "choropleth": [
           {
            "colorbar": {
             "outlinewidth": 0,
             "ticks": ""
            },
            "type": "choropleth"
           }
          ],
          "contour": [
           {
            "colorbar": {
             "outlinewidth": 0,
             "ticks": ""
            },
            "colorscale": [
             [
              0,
              "#0d0887"
             ],
             [
              0.1111111111111111,
              "#46039f"
             ],
             [
              0.2222222222222222,
              "#7201a8"
             ],
             [
              0.3333333333333333,
              "#9c179e"
             ],
             [
              0.4444444444444444,
              "#bd3786"
             ],
             [
              0.5555555555555556,
              "#d8576b"
             ],
             [
              0.6666666666666666,
              "#ed7953"
             ],
             [
              0.7777777777777778,
              "#fb9f3a"
             ],
             [
              0.8888888888888888,
              "#fdca26"
             ],
             [
              1,
              "#f0f921"
             ]
            ],
            "type": "contour"
           }
          ],
          "contourcarpet": [
           {
            "colorbar": {
             "outlinewidth": 0,
             "ticks": ""
            },
            "type": "contourcarpet"
           }
          ],
          "heatmap": [
           {
            "colorbar": {
             "outlinewidth": 0,
             "ticks": ""
            },
            "colorscale": [
             [
              0,
              "#0d0887"
             ],
             [
              0.1111111111111111,
              "#46039f"
             ],
             [
              0.2222222222222222,
              "#7201a8"
             ],
             [
              0.3333333333333333,
              "#9c179e"
             ],
             [
              0.4444444444444444,
              "#bd3786"
             ],
             [
              0.5555555555555556,
              "#d8576b"
             ],
             [
              0.6666666666666666,
              "#ed7953"
             ],
             [
              0.7777777777777778,
              "#fb9f3a"
             ],
             [
              0.8888888888888888,
              "#fdca26"
             ],
             [
              1,
              "#f0f921"
             ]
            ],
            "type": "heatmap"
           }
          ],
          "heatmapgl": [
           {
            "colorbar": {
             "outlinewidth": 0,
             "ticks": ""
            },
            "colorscale": [
             [
              0,
              "#0d0887"
             ],
             [
              0.1111111111111111,
              "#46039f"
             ],
             [
              0.2222222222222222,
              "#7201a8"
             ],
             [
              0.3333333333333333,
              "#9c179e"
             ],
             [
              0.4444444444444444,
              "#bd3786"
             ],
             [
              0.5555555555555556,
              "#d8576b"
             ],
             [
              0.6666666666666666,
              "#ed7953"
             ],
             [
              0.7777777777777778,
              "#fb9f3a"
             ],
             [
              0.8888888888888888,
              "#fdca26"
             ],
             [
              1,
              "#f0f921"
             ]
            ],
            "type": "heatmapgl"
           }
          ],
          "histogram": [
           {
            "marker": {
             "pattern": {
              "fillmode": "overlay",
              "size": 10,
              "solidity": 0.2
             }
            },
            "type": "histogram"
           }
          ],
          "histogram2d": [
           {
            "colorbar": {
             "outlinewidth": 0,
             "ticks": ""
            },
            "colorscale": [
             [
              0,
              "#0d0887"
             ],
             [
              0.1111111111111111,
              "#46039f"
             ],
             [
              0.2222222222222222,
              "#7201a8"
             ],
             [
              0.3333333333333333,
              "#9c179e"
             ],
             [
              0.4444444444444444,
              "#bd3786"
             ],
             [
              0.5555555555555556,
              "#d8576b"
             ],
             [
              0.6666666666666666,
              "#ed7953"
             ],
             [
              0.7777777777777778,
              "#fb9f3a"
             ],
             [
              0.8888888888888888,
              "#fdca26"
             ],
             [
              1,
              "#f0f921"
             ]
            ],
            "type": "histogram2d"
           }
          ],
          "histogram2dcontour": [
           {
            "colorbar": {
             "outlinewidth": 0,
             "ticks": ""
            },
            "colorscale": [
             [
              0,
              "#0d0887"
             ],
             [
              0.1111111111111111,
              "#46039f"
             ],
             [
              0.2222222222222222,
              "#7201a8"
             ],
             [
              0.3333333333333333,
              "#9c179e"
             ],
             [
              0.4444444444444444,
              "#bd3786"
             ],
             [
              0.5555555555555556,
              "#d8576b"
             ],
             [
              0.6666666666666666,
              "#ed7953"
             ],
             [
              0.7777777777777778,
              "#fb9f3a"
             ],
             [
              0.8888888888888888,
              "#fdca26"
             ],
             [
              1,
              "#f0f921"
             ]
            ],
            "type": "histogram2dcontour"
           }
          ],
          "mesh3d": [
           {
            "colorbar": {
             "outlinewidth": 0,
             "ticks": ""
            },
            "type": "mesh3d"
           }
          ],
          "parcoords": [
           {
            "line": {
             "colorbar": {
              "outlinewidth": 0,
              "ticks": ""
             }
            },
            "type": "parcoords"
           }
          ],
          "pie": [
           {
            "automargin": true,
            "type": "pie"
           }
          ],
          "scatter": [
           {
            "fillpattern": {
             "fillmode": "overlay",
             "size": 10,
             "solidity": 0.2
            },
            "type": "scatter"
           }
          ],
          "scatter3d": [
           {
            "line": {
             "colorbar": {
              "outlinewidth": 0,
              "ticks": ""
             }
            },
            "marker": {
             "colorbar": {
              "outlinewidth": 0,
              "ticks": ""
             }
            },
            "type": "scatter3d"
           }
          ],
          "scattercarpet": [
           {
            "marker": {
             "colorbar": {
              "outlinewidth": 0,
              "ticks": ""
             }
            },
            "type": "scattercarpet"
           }
          ],
          "scattergeo": [
           {
            "marker": {
             "colorbar": {
              "outlinewidth": 0,
              "ticks": ""
             }
            },
            "type": "scattergeo"
           }
          ],
          "scattergl": [
           {
            "marker": {
             "colorbar": {
              "outlinewidth": 0,
              "ticks": ""
             }
            },
            "type": "scattergl"
           }
          ],
          "scattermapbox": [
           {
            "marker": {
             "colorbar": {
              "outlinewidth": 0,
              "ticks": ""
             }
            },
            "type": "scattermapbox"
           }
          ],
          "scatterpolar": [
           {
            "marker": {
             "colorbar": {
              "outlinewidth": 0,
              "ticks": ""
             }
            },
            "type": "scatterpolar"
           }
          ],
          "scatterpolargl": [
           {
            "marker": {
             "colorbar": {
              "outlinewidth": 0,
              "ticks": ""
             }
            },
            "type": "scatterpolargl"
           }
          ],
          "scatterternary": [
           {
            "marker": {
             "colorbar": {
              "outlinewidth": 0,
              "ticks": ""
             }
            },
            "type": "scatterternary"
           }
          ],
          "surface": [
           {
            "colorbar": {
             "outlinewidth": 0,
             "ticks": ""
            },
            "colorscale": [
             [
              0,
              "#0d0887"
             ],
             [
              0.1111111111111111,
              "#46039f"
             ],
             [
              0.2222222222222222,
              "#7201a8"
             ],
             [
              0.3333333333333333,
              "#9c179e"
             ],
             [
              0.4444444444444444,
              "#bd3786"
             ],
             [
              0.5555555555555556,
              "#d8576b"
             ],
             [
              0.6666666666666666,
              "#ed7953"
             ],
             [
              0.7777777777777778,
              "#fb9f3a"
             ],
             [
              0.8888888888888888,
              "#fdca26"
             ],
             [
              1,
              "#f0f921"
             ]
            ],
            "type": "surface"
           }
          ],
          "table": [
           {
            "cells": {
             "fill": {
              "color": "#EBF0F8"
             },
             "line": {
              "color": "white"
             }
            },
            "header": {
             "fill": {
              "color": "#C8D4E3"
             },
             "line": {
              "color": "white"
             }
            },
            "type": "table"
           }
          ]
         },
         "layout": {
          "annotationdefaults": {
           "arrowcolor": "#2a3f5f",
           "arrowhead": 0,
           "arrowwidth": 1
          },
          "autotypenumbers": "strict",
          "coloraxis": {
           "colorbar": {
            "outlinewidth": 0,
            "ticks": ""
           }
          },
          "colorscale": {
           "diverging": [
            [
             0,
             "#8e0152"
            ],
            [
             0.1,
             "#c51b7d"
            ],
            [
             0.2,
             "#de77ae"
            ],
            [
             0.3,
             "#f1b6da"
            ],
            [
             0.4,
             "#fde0ef"
            ],
            [
             0.5,
             "#f7f7f7"
            ],
            [
             0.6,
             "#e6f5d0"
            ],
            [
             0.7,
             "#b8e186"
            ],
            [
             0.8,
             "#7fbc41"
            ],
            [
             0.9,
             "#4d9221"
            ],
            [
             1,
             "#276419"
            ]
           ],
           "sequential": [
            [
             0,
             "#0d0887"
            ],
            [
             0.1111111111111111,
             "#46039f"
            ],
            [
             0.2222222222222222,
             "#7201a8"
            ],
            [
             0.3333333333333333,
             "#9c179e"
            ],
            [
             0.4444444444444444,
             "#bd3786"
            ],
            [
             0.5555555555555556,
             "#d8576b"
            ],
            [
             0.6666666666666666,
             "#ed7953"
            ],
            [
             0.7777777777777778,
             "#fb9f3a"
            ],
            [
             0.8888888888888888,
             "#fdca26"
            ],
            [
             1,
             "#f0f921"
            ]
           ],
           "sequentialminus": [
            [
             0,
             "#0d0887"
            ],
            [
             0.1111111111111111,
             "#46039f"
            ],
            [
             0.2222222222222222,
             "#7201a8"
            ],
            [
             0.3333333333333333,
             "#9c179e"
            ],
            [
             0.4444444444444444,
             "#bd3786"
            ],
            [
             0.5555555555555556,
             "#d8576b"
            ],
            [
             0.6666666666666666,
             "#ed7953"
            ],
            [
             0.7777777777777778,
             "#fb9f3a"
            ],
            [
             0.8888888888888888,
             "#fdca26"
            ],
            [
             1,
             "#f0f921"
            ]
           ]
          },
          "colorway": [
           "#636efa",
           "#EF553B",
           "#00cc96",
           "#ab63fa",
           "#FFA15A",
           "#19d3f3",
           "#FF6692",
           "#B6E880",
           "#FF97FF",
           "#FECB52"
          ],
          "font": {
           "color": "#2a3f5f"
          },
          "geo": {
           "bgcolor": "white",
           "lakecolor": "white",
           "landcolor": "#E5ECF6",
           "showlakes": true,
           "showland": true,
           "subunitcolor": "white"
          },
          "hoverlabel": {
           "align": "left"
          },
          "hovermode": "closest",
          "mapbox": {
           "style": "light"
          },
          "paper_bgcolor": "white",
          "plot_bgcolor": "#E5ECF6",
          "polar": {
           "angularaxis": {
            "gridcolor": "white",
            "linecolor": "white",
            "ticks": ""
           },
           "bgcolor": "#E5ECF6",
           "radialaxis": {
            "gridcolor": "white",
            "linecolor": "white",
            "ticks": ""
           }
          },
          "scene": {
           "xaxis": {
            "backgroundcolor": "#E5ECF6",
            "gridcolor": "white",
            "gridwidth": 2,
            "linecolor": "white",
            "showbackground": true,
            "ticks": "",
            "zerolinecolor": "white"
           },
           "yaxis": {
            "backgroundcolor": "#E5ECF6",
            "gridcolor": "white",
            "gridwidth": 2,
            "linecolor": "white",
            "showbackground": true,
            "ticks": "",
            "zerolinecolor": "white"
           },
           "zaxis": {
            "backgroundcolor": "#E5ECF6",
            "gridcolor": "white",
            "gridwidth": 2,
            "linecolor": "white",
            "showbackground": true,
            "ticks": "",
            "zerolinecolor": "white"
           }
          },
          "shapedefaults": {
           "line": {
            "color": "#2a3f5f"
           }
          },
          "ternary": {
           "aaxis": {
            "gridcolor": "white",
            "linecolor": "white",
            "ticks": ""
           },
           "baxis": {
            "gridcolor": "white",
            "linecolor": "white",
            "ticks": ""
           },
           "bgcolor": "#E5ECF6",
           "caxis": {
            "gridcolor": "white",
            "linecolor": "white",
            "ticks": ""
           }
          },
          "title": {
           "x": 0.05
          },
          "xaxis": {
           "automargin": true,
           "gridcolor": "white",
           "linecolor": "white",
           "ticks": "",
           "title": {
            "standoff": 15
           },
           "zerolinecolor": "white",
           "zerolinewidth": 2
          },
          "yaxis": {
           "automargin": true,
           "gridcolor": "white",
           "linecolor": "white",
           "ticks": "",
           "title": {
            "standoff": 15
           },
           "zerolinecolor": "white",
           "zerolinewidth": 2
          }
         }
        },
        "xaxis": {
         "anchor": "y",
         "domain": [
          0,
          1
         ],
         "showticklabels": false,
         "title": {
          "text": "degree"
         }
        },
        "yaxis": {
         "anchor": "x",
         "domain": [
          0,
          1
         ],
         "title": {
          "text": "count"
         }
        }
       }
      }
     },
     "metadata": {},
     "output_type": "display_data"
    }
   ],
   "source": [
    "import plotly.express as px\n",
    "\n",
    "sorted_degrees = sorted(degrees, key=lambda x: x[\"count\"], reverse=True)\n",
    "fig = px.bar(sorted_degrees, x=\"degree\", y=\"count\", hover_data=['school'])\n",
    "fig.update_xaxes(showticklabels=False) # we hide x labels because it takes too much room. We can see school names by hovering bars\n",
    "fig.show()"
   ]
  }
 ],
 "metadata": {
  "kernelspec": {
   "display_name": "env",
   "language": "python",
   "name": "python3"
  },
  "language_info": {
   "codemirror_mode": {
    "name": "ipython",
    "version": 3
   },
   "file_extension": ".py",
   "mimetype": "text/x-python",
   "name": "python",
   "nbconvert_exporter": "python",
   "pygments_lexer": "ipython3",
   "version": "3.10.9"
  }
 },
 "nbformat": 4,
 "nbformat_minor": 2
}
